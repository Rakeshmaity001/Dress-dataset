{
  "cells": [
    {
      "cell_type": "code",
      "execution_count": null,
      "metadata": {
        "id": "8pPZzGfrs_VI"
      },
      "outputs": [],
      "source": [
        "#Import the required Libraries.\n",
        "import numpy as np\n",
        "import pandas as pd\n",
        "import matplotlib.pyplot as plt\n",
        "import seaborn as sns"
      ]
    },
    {
      "cell_type": "markdown",
      "metadata": {
        "id": "3VZS4T8vs_VL"
      },
      "source": [
        "## Data Cleaning "
      ]
    },
    {
      "cell_type": "markdown",
      "metadata": {
        "id": "hap1bSzKs_VM"
      },
      "source": [
        "### Data Reading & Data Types "
      ]
    },
    {
      "cell_type": "code",
      "execution_count": null,
      "metadata": {
        "id": "aio9AZeQs_VN"
      },
      "outputs": [],
      "source": [
        "#Read the data in pandas\n",
        "inp0= pd.read_csv(\"Attribute+DataSet.csv\")\n",
        "inp1= pd.read_csv(\"Dress+Sales.csv\")"
      ]
    },
    {
      "cell_type": "markdown",
      "metadata": {
        "id": "IpGP0CTXs_VN"
      },
      "source": [
        "You have “Attribute DataSet” which contains a column named “Price”. Choose the correct statement from the following about its data type and variable type.\n",
        "- Integer type and numerical variable\n",
        "- Object type and categorical ordinal variable\n",
        "- Object type and categorical nominal variable\n",
        "- Float type and categorical variable.\n"
      ]
    },
    {
      "cell_type": "markdown",
      "source": [
        "Object type and categorical ordinal variable"
      ],
      "metadata": {
        "id": "HRGt7ISWvupH"
      }
    },
    {
      "cell_type": "code",
      "source": [
        "inp0.head()"
      ],
      "metadata": {
        "colab": {
          "base_uri": "https://localhost:8080/"
        },
        "id": "90wJec2TujNd",
        "outputId": "22e0bb40-7c89-4caf-d712-3efc6aa4dc63"
      },
      "execution_count": null,
      "outputs": [
        {
          "output_type": "execute_result",
          "data": {
            "text/plain": [
              "     Dress_ID    Style    Price  Rating Size  Season NeckLine SleeveLength  \\\n",
              "0  1006032852     Sexy      Low     4.6    M  Summer   o-neck    sleevless   \n",
              "1  1212192089   Casual      Low     0.0    L  Summer   o-neck        Petal   \n",
              "2  1190380701  vintage     High     0.0    L  Automn   o-neck         full   \n",
              "3   966005983    Brief  Average     4.6    L  Spring   o-neck         full   \n",
              "4   876339541     cute      Low     4.5    M  Summer   o-neck    butterfly   \n",
              "\n",
              "        Material FabricType  Decoration Pattern Type  Recommendation  \n",
              "0            NaN    chiffon     ruffles       animal               1  \n",
              "1     microfiber        NaN     ruffles       animal               0  \n",
              "2       polyster        NaN         NaN        print               0  \n",
              "3           silk    chiffon  embroidary        print               1  \n",
              "4  chiffonfabric    chiffon         bow          dot               0  "
            ],
            "text/html": [
              "\n",
              "  <div id=\"df-dd6eec49-3d98-4dcc-9186-522be7f9e407\">\n",
              "    <div class=\"colab-df-container\">\n",
              "      <div>\n",
              "<style scoped>\n",
              "    .dataframe tbody tr th:only-of-type {\n",
              "        vertical-align: middle;\n",
              "    }\n",
              "\n",
              "    .dataframe tbody tr th {\n",
              "        vertical-align: top;\n",
              "    }\n",
              "\n",
              "    .dataframe thead th {\n",
              "        text-align: right;\n",
              "    }\n",
              "</style>\n",
              "<table border=\"1\" class=\"dataframe\">\n",
              "  <thead>\n",
              "    <tr style=\"text-align: right;\">\n",
              "      <th></th>\n",
              "      <th>Dress_ID</th>\n",
              "      <th>Style</th>\n",
              "      <th>Price</th>\n",
              "      <th>Rating</th>\n",
              "      <th>Size</th>\n",
              "      <th>Season</th>\n",
              "      <th>NeckLine</th>\n",
              "      <th>SleeveLength</th>\n",
              "      <th>Material</th>\n",
              "      <th>FabricType</th>\n",
              "      <th>Decoration</th>\n",
              "      <th>Pattern Type</th>\n",
              "      <th>Recommendation</th>\n",
              "    </tr>\n",
              "  </thead>\n",
              "  <tbody>\n",
              "    <tr>\n",
              "      <th>0</th>\n",
              "      <td>1006032852</td>\n",
              "      <td>Sexy</td>\n",
              "      <td>Low</td>\n",
              "      <td>4.6</td>\n",
              "      <td>M</td>\n",
              "      <td>Summer</td>\n",
              "      <td>o-neck</td>\n",
              "      <td>sleevless</td>\n",
              "      <td>NaN</td>\n",
              "      <td>chiffon</td>\n",
              "      <td>ruffles</td>\n",
              "      <td>animal</td>\n",
              "      <td>1</td>\n",
              "    </tr>\n",
              "    <tr>\n",
              "      <th>1</th>\n",
              "      <td>1212192089</td>\n",
              "      <td>Casual</td>\n",
              "      <td>Low</td>\n",
              "      <td>0.0</td>\n",
              "      <td>L</td>\n",
              "      <td>Summer</td>\n",
              "      <td>o-neck</td>\n",
              "      <td>Petal</td>\n",
              "      <td>microfiber</td>\n",
              "      <td>NaN</td>\n",
              "      <td>ruffles</td>\n",
              "      <td>animal</td>\n",
              "      <td>0</td>\n",
              "    </tr>\n",
              "    <tr>\n",
              "      <th>2</th>\n",
              "      <td>1190380701</td>\n",
              "      <td>vintage</td>\n",
              "      <td>High</td>\n",
              "      <td>0.0</td>\n",
              "      <td>L</td>\n",
              "      <td>Automn</td>\n",
              "      <td>o-neck</td>\n",
              "      <td>full</td>\n",
              "      <td>polyster</td>\n",
              "      <td>NaN</td>\n",
              "      <td>NaN</td>\n",
              "      <td>print</td>\n",
              "      <td>0</td>\n",
              "    </tr>\n",
              "    <tr>\n",
              "      <th>3</th>\n",
              "      <td>966005983</td>\n",
              "      <td>Brief</td>\n",
              "      <td>Average</td>\n",
              "      <td>4.6</td>\n",
              "      <td>L</td>\n",
              "      <td>Spring</td>\n",
              "      <td>o-neck</td>\n",
              "      <td>full</td>\n",
              "      <td>silk</td>\n",
              "      <td>chiffon</td>\n",
              "      <td>embroidary</td>\n",
              "      <td>print</td>\n",
              "      <td>1</td>\n",
              "    </tr>\n",
              "    <tr>\n",
              "      <th>4</th>\n",
              "      <td>876339541</td>\n",
              "      <td>cute</td>\n",
              "      <td>Low</td>\n",
              "      <td>4.5</td>\n",
              "      <td>M</td>\n",
              "      <td>Summer</td>\n",
              "      <td>o-neck</td>\n",
              "      <td>butterfly</td>\n",
              "      <td>chiffonfabric</td>\n",
              "      <td>chiffon</td>\n",
              "      <td>bow</td>\n",
              "      <td>dot</td>\n",
              "      <td>0</td>\n",
              "    </tr>\n",
              "  </tbody>\n",
              "</table>\n",
              "</div>\n",
              "      <button class=\"colab-df-convert\" onclick=\"convertToInteractive('df-dd6eec49-3d98-4dcc-9186-522be7f9e407')\"\n",
              "              title=\"Convert this dataframe to an interactive table.\"\n",
              "              style=\"display:none;\">\n",
              "        \n",
              "  <svg xmlns=\"http://www.w3.org/2000/svg\" height=\"24px\"viewBox=\"0 0 24 24\"\n",
              "       width=\"24px\">\n",
              "    <path d=\"M0 0h24v24H0V0z\" fill=\"none\"/>\n",
              "    <path d=\"M18.56 5.44l.94 2.06.94-2.06 2.06-.94-2.06-.94-.94-2.06-.94 2.06-2.06.94zm-11 1L8.5 8.5l.94-2.06 2.06-.94-2.06-.94L8.5 2.5l-.94 2.06-2.06.94zm10 10l.94 2.06.94-2.06 2.06-.94-2.06-.94-.94-2.06-.94 2.06-2.06.94z\"/><path d=\"M17.41 7.96l-1.37-1.37c-.4-.4-.92-.59-1.43-.59-.52 0-1.04.2-1.43.59L10.3 9.45l-7.72 7.72c-.78.78-.78 2.05 0 2.83L4 21.41c.39.39.9.59 1.41.59.51 0 1.02-.2 1.41-.59l7.78-7.78 2.81-2.81c.8-.78.8-2.07 0-2.86zM5.41 20L4 18.59l7.72-7.72 1.47 1.35L5.41 20z\"/>\n",
              "  </svg>\n",
              "      </button>\n",
              "      \n",
              "  <style>\n",
              "    .colab-df-container {\n",
              "      display:flex;\n",
              "      flex-wrap:wrap;\n",
              "      gap: 12px;\n",
              "    }\n",
              "\n",
              "    .colab-df-convert {\n",
              "      background-color: #E8F0FE;\n",
              "      border: none;\n",
              "      border-radius: 50%;\n",
              "      cursor: pointer;\n",
              "      display: none;\n",
              "      fill: #1967D2;\n",
              "      height: 32px;\n",
              "      padding: 0 0 0 0;\n",
              "      width: 32px;\n",
              "    }\n",
              "\n",
              "    .colab-df-convert:hover {\n",
              "      background-color: #E2EBFA;\n",
              "      box-shadow: 0px 1px 2px rgba(60, 64, 67, 0.3), 0px 1px 3px 1px rgba(60, 64, 67, 0.15);\n",
              "      fill: #174EA6;\n",
              "    }\n",
              "\n",
              "    [theme=dark] .colab-df-convert {\n",
              "      background-color: #3B4455;\n",
              "      fill: #D2E3FC;\n",
              "    }\n",
              "\n",
              "    [theme=dark] .colab-df-convert:hover {\n",
              "      background-color: #434B5C;\n",
              "      box-shadow: 0px 1px 3px 1px rgba(0, 0, 0, 0.15);\n",
              "      filter: drop-shadow(0px 1px 2px rgba(0, 0, 0, 0.3));\n",
              "      fill: #FFFFFF;\n",
              "    }\n",
              "  </style>\n",
              "\n",
              "      <script>\n",
              "        const buttonEl =\n",
              "          document.querySelector('#df-dd6eec49-3d98-4dcc-9186-522be7f9e407 button.colab-df-convert');\n",
              "        buttonEl.style.display =\n",
              "          google.colab.kernel.accessAllowed ? 'block' : 'none';\n",
              "\n",
              "        async function convertToInteractive(key) {\n",
              "          const element = document.querySelector('#df-dd6eec49-3d98-4dcc-9186-522be7f9e407');\n",
              "          const dataTable =\n",
              "            await google.colab.kernel.invokeFunction('convertToInteractive',\n",
              "                                                     [key], {});\n",
              "          if (!dataTable) return;\n",
              "\n",
              "          const docLinkHtml = 'Like what you see? Visit the ' +\n",
              "            '<a target=\"_blank\" href=https://colab.research.google.com/notebooks/data_table.ipynb>data table notebook</a>'\n",
              "            + ' to learn more about interactive tables.';\n",
              "          element.innerHTML = '';\n",
              "          dataTable['output_type'] = 'display_data';\n",
              "          await google.colab.output.renderOutput(dataTable, element);\n",
              "          const docLink = document.createElement('div');\n",
              "          docLink.innerHTML = docLinkHtml;\n",
              "          element.appendChild(docLink);\n",
              "        }\n",
              "      </script>\n",
              "    </div>\n",
              "  </div>\n",
              "  "
            ]
          },
          "metadata": {},
          "execution_count": 7
        }
      ]
    },
    {
      "cell_type": "code",
      "source": [
        "inp0.info()"
      ],
      "metadata": {
        "colab": {
          "base_uri": "https://localhost:8080/"
        },
        "id": "BOjXb0emuTCN",
        "outputId": "66279483-5f5b-4f72-d0b9-c4254bed73c2"
      },
      "execution_count": null,
      "outputs": [
        {
          "output_type": "stream",
          "name": "stdout",
          "text": [
            "<class 'pandas.core.frame.DataFrame'>\n",
            "RangeIndex: 479 entries, 0 to 478\n",
            "Data columns (total 13 columns):\n",
            " #   Column          Non-Null Count  Dtype  \n",
            "---  ------          --------------  -----  \n",
            " 0   Dress_ID        479 non-null    int64  \n",
            " 1   Style           479 non-null    object \n",
            " 2   Price           477 non-null    object \n",
            " 3   Rating          479 non-null    float64\n",
            " 4   Size            479 non-null    object \n",
            " 5   Season          477 non-null    object \n",
            " 6   NeckLine        476 non-null    object \n",
            " 7   SleeveLength    477 non-null    object \n",
            " 8   Material        360 non-null    object \n",
            " 9   FabricType      223 non-null    object \n",
            " 10  Decoration      255 non-null    object \n",
            " 11  Pattern Type    377 non-null    object \n",
            " 12  Recommendation  479 non-null    int64  \n",
            "dtypes: float64(1), int64(2), object(10)\n",
            "memory usage: 48.8+ KB\n"
          ]
        }
      ]
    },
    {
      "cell_type": "markdown",
      "metadata": {
        "id": "5kkcZYFhs_VO"
      },
      "source": [
        "There is another column in “Attribute DataSet” named as “Recommendation”, choose the correct statement about its data type and variable type.\n",
        "- Integer type and categorical\n",
        "- Object type and categorical\n",
        "- Integer type and continuous numerical\n",
        "- Object type only.\n"
      ]
    },
    {
      "cell_type": "markdown",
      "source": [
        "Integer type and categorical"
      ],
      "metadata": {
        "id": "ClofFPLXv2I1"
      }
    },
    {
      "cell_type": "code",
      "source": [
        "inp0.Recommendation.describe()\n"
      ],
      "metadata": {
        "colab": {
          "base_uri": "https://localhost:8080/"
        },
        "id": "AGdeR4ZFu_yV",
        "outputId": "96a72e3b-a661-43e6-b6bd-13b83ff295b4"
      },
      "execution_count": null,
      "outputs": [
        {
          "output_type": "execute_result",
          "data": {
            "text/plain": [
              "count    479.000000\n",
              "mean       0.427975\n",
              "std        0.495302\n",
              "min        0.000000\n",
              "25%        0.000000\n",
              "50%        0.000000\n",
              "75%        1.000000\n",
              "max        1.000000\n",
              "Name: Recommendation, dtype: float64"
            ]
          },
          "metadata": {},
          "execution_count": 9
        }
      ]
    },
    {
      "cell_type": "markdown",
      "metadata": {
        "id": "4VD-wj_3s_VP"
      },
      "source": [
        "Which of the following column do you think are of no use in “Attribute DataSet”.\n",
        "- Dress_ID\n",
        "- Price\n",
        "- Size and material\n",
        "- NeckLine\n",
        "- None of the above\n"
      ]
    },
    {
      "cell_type": "markdown",
      "source": [
        "***None of the above***"
      ],
      "metadata": {
        "id": "4NP9ZSDl6eOZ"
      }
    },
    {
      "cell_type": "code",
      "execution_count": null,
      "metadata": {
        "colab": {
          "base_uri": "https://localhost:8080/"
        },
        "id": "r0O2Vx_5s_VP",
        "outputId": "c207b939-5bda-4f72-f967-7149bf9de1fe"
      },
      "outputs": [
        {
          "output_type": "stream",
          "name": "stdout",
          "text": [
            "<class 'pandas.core.frame.DataFrame'>\n",
            "RangeIndex: 479 entries, 0 to 478\n",
            "Data columns (total 13 columns):\n",
            " #   Column          Non-Null Count  Dtype  \n",
            "---  ------          --------------  -----  \n",
            " 0   Dress_ID        479 non-null    int64  \n",
            " 1   Style           479 non-null    object \n",
            " 2   Price           477 non-null    object \n",
            " 3   Rating          479 non-null    float64\n",
            " 4   Size            479 non-null    object \n",
            " 5   Season          477 non-null    object \n",
            " 6   NeckLine        476 non-null    object \n",
            " 7   SleeveLength    477 non-null    object \n",
            " 8   Material        360 non-null    object \n",
            " 9   FabricType      223 non-null    object \n",
            " 10  Decoration      255 non-null    object \n",
            " 11  Pattern Type    377 non-null    object \n",
            " 12  Recommendation  479 non-null    int64  \n",
            "dtypes: float64(1), int64(2), object(10)\n",
            "memory usage: 48.8+ KB\n"
          ]
        }
      ],
      "source": [
        "# Print the information about the attributes of inp0 and inp1.\n",
        "inp0.info()"
      ]
    },
    {
      "cell_type": "code",
      "source": [
        "inp1.head()"
      ],
      "metadata": {
        "colab": {
          "base_uri": "https://localhost:8080/"
        },
        "id": "1diR4deuwWaY",
        "outputId": "0d2c5b15-d6af-4535-e52a-795f627f571e"
      },
      "execution_count": null,
      "outputs": [
        {
          "output_type": "execute_result",
          "data": {
            "text/plain": [
              "       Dress_ID  29-08-2013  31-08-2013  09-02-2013  09-04-2013  09-06-2013  \\\n",
              "0  1.006033e+09        2114        2274        2491        2660        2727   \n",
              "1  1.212192e+09         151         275         570         750         813   \n",
              "2  1.190381e+09           6           7           7           7           8   \n",
              "3  9.660060e+08        1005        1128        1326        1455        1507   \n",
              "4  8.763395e+08         996        1175        1304        1396        1432   \n",
              "\n",
              "   09-08-2013  09-10-2013 09-12-2013 14-09-2013  ... 24-09-2013 26-09-2013  \\\n",
              "0        2887        2930       3119       3204  ...       3554     3624.0   \n",
              "1        1066        1164       1558       1756  ...       2710     2942.0   \n",
              "2           8           9         10         10  ...         11       11.0   \n",
              "3        1621        1637       1723       1746  ...       1878     1892.0   \n",
              "4        1559        1570       1638       1655  ...       2032     2156.0   \n",
              "\n",
              "  28-09-2013 30-09-2013  10-02-2013  10-04-2013  10-06-2013  10-08-2013  \\\n",
              "0       3706     3746.0      3795.0      3832.0        3897      3923.0   \n",
              "1       3258     3354.0      3475.0      3654.0        3911      4024.0   \n",
              "2         11       11.0        11.0        11.0          11        11.0   \n",
              "3       1914     1924.0      1929.0      1941.0        1952      1955.0   \n",
              "4       2252     2312.0      2387.0      2459.0        2544      2614.0   \n",
              "\n",
              "   10-10-2013  10-12-2013  \n",
              "0      3985.0        4048  \n",
              "1      4125.0        4277  \n",
              "2        11.0          11  \n",
              "3      1959.0        1963  \n",
              "4      2693.0        2736  \n",
              "\n",
              "[5 rows x 24 columns]"
            ],
            "text/html": [
              "\n",
              "  <div id=\"df-5d4eb35c-2670-4ece-9572-d08a52770e80\">\n",
              "    <div class=\"colab-df-container\">\n",
              "      <div>\n",
              "<style scoped>\n",
              "    .dataframe tbody tr th:only-of-type {\n",
              "        vertical-align: middle;\n",
              "    }\n",
              "\n",
              "    .dataframe tbody tr th {\n",
              "        vertical-align: top;\n",
              "    }\n",
              "\n",
              "    .dataframe thead th {\n",
              "        text-align: right;\n",
              "    }\n",
              "</style>\n",
              "<table border=\"1\" class=\"dataframe\">\n",
              "  <thead>\n",
              "    <tr style=\"text-align: right;\">\n",
              "      <th></th>\n",
              "      <th>Dress_ID</th>\n",
              "      <th>29-08-2013</th>\n",
              "      <th>31-08-2013</th>\n",
              "      <th>09-02-2013</th>\n",
              "      <th>09-04-2013</th>\n",
              "      <th>09-06-2013</th>\n",
              "      <th>09-08-2013</th>\n",
              "      <th>09-10-2013</th>\n",
              "      <th>09-12-2013</th>\n",
              "      <th>14-09-2013</th>\n",
              "      <th>...</th>\n",
              "      <th>24-09-2013</th>\n",
              "      <th>26-09-2013</th>\n",
              "      <th>28-09-2013</th>\n",
              "      <th>30-09-2013</th>\n",
              "      <th>10-02-2013</th>\n",
              "      <th>10-04-2013</th>\n",
              "      <th>10-06-2013</th>\n",
              "      <th>10-08-2013</th>\n",
              "      <th>10-10-2013</th>\n",
              "      <th>10-12-2013</th>\n",
              "    </tr>\n",
              "  </thead>\n",
              "  <tbody>\n",
              "    <tr>\n",
              "      <th>0</th>\n",
              "      <td>1.006033e+09</td>\n",
              "      <td>2114</td>\n",
              "      <td>2274</td>\n",
              "      <td>2491</td>\n",
              "      <td>2660</td>\n",
              "      <td>2727</td>\n",
              "      <td>2887</td>\n",
              "      <td>2930</td>\n",
              "      <td>3119</td>\n",
              "      <td>3204</td>\n",
              "      <td>...</td>\n",
              "      <td>3554</td>\n",
              "      <td>3624.0</td>\n",
              "      <td>3706</td>\n",
              "      <td>3746.0</td>\n",
              "      <td>3795.0</td>\n",
              "      <td>3832.0</td>\n",
              "      <td>3897</td>\n",
              "      <td>3923.0</td>\n",
              "      <td>3985.0</td>\n",
              "      <td>4048</td>\n",
              "    </tr>\n",
              "    <tr>\n",
              "      <th>1</th>\n",
              "      <td>1.212192e+09</td>\n",
              "      <td>151</td>\n",
              "      <td>275</td>\n",
              "      <td>570</td>\n",
              "      <td>750</td>\n",
              "      <td>813</td>\n",
              "      <td>1066</td>\n",
              "      <td>1164</td>\n",
              "      <td>1558</td>\n",
              "      <td>1756</td>\n",
              "      <td>...</td>\n",
              "      <td>2710</td>\n",
              "      <td>2942.0</td>\n",
              "      <td>3258</td>\n",
              "      <td>3354.0</td>\n",
              "      <td>3475.0</td>\n",
              "      <td>3654.0</td>\n",
              "      <td>3911</td>\n",
              "      <td>4024.0</td>\n",
              "      <td>4125.0</td>\n",
              "      <td>4277</td>\n",
              "    </tr>\n",
              "    <tr>\n",
              "      <th>2</th>\n",
              "      <td>1.190381e+09</td>\n",
              "      <td>6</td>\n",
              "      <td>7</td>\n",
              "      <td>7</td>\n",
              "      <td>7</td>\n",
              "      <td>8</td>\n",
              "      <td>8</td>\n",
              "      <td>9</td>\n",
              "      <td>10</td>\n",
              "      <td>10</td>\n",
              "      <td>...</td>\n",
              "      <td>11</td>\n",
              "      <td>11.0</td>\n",
              "      <td>11</td>\n",
              "      <td>11.0</td>\n",
              "      <td>11.0</td>\n",
              "      <td>11.0</td>\n",
              "      <td>11</td>\n",
              "      <td>11.0</td>\n",
              "      <td>11.0</td>\n",
              "      <td>11</td>\n",
              "    </tr>\n",
              "    <tr>\n",
              "      <th>3</th>\n",
              "      <td>9.660060e+08</td>\n",
              "      <td>1005</td>\n",
              "      <td>1128</td>\n",
              "      <td>1326</td>\n",
              "      <td>1455</td>\n",
              "      <td>1507</td>\n",
              "      <td>1621</td>\n",
              "      <td>1637</td>\n",
              "      <td>1723</td>\n",
              "      <td>1746</td>\n",
              "      <td>...</td>\n",
              "      <td>1878</td>\n",
              "      <td>1892.0</td>\n",
              "      <td>1914</td>\n",
              "      <td>1924.0</td>\n",
              "      <td>1929.0</td>\n",
              "      <td>1941.0</td>\n",
              "      <td>1952</td>\n",
              "      <td>1955.0</td>\n",
              "      <td>1959.0</td>\n",
              "      <td>1963</td>\n",
              "    </tr>\n",
              "    <tr>\n",
              "      <th>4</th>\n",
              "      <td>8.763395e+08</td>\n",
              "      <td>996</td>\n",
              "      <td>1175</td>\n",
              "      <td>1304</td>\n",
              "      <td>1396</td>\n",
              "      <td>1432</td>\n",
              "      <td>1559</td>\n",
              "      <td>1570</td>\n",
              "      <td>1638</td>\n",
              "      <td>1655</td>\n",
              "      <td>...</td>\n",
              "      <td>2032</td>\n",
              "      <td>2156.0</td>\n",
              "      <td>2252</td>\n",
              "      <td>2312.0</td>\n",
              "      <td>2387.0</td>\n",
              "      <td>2459.0</td>\n",
              "      <td>2544</td>\n",
              "      <td>2614.0</td>\n",
              "      <td>2693.0</td>\n",
              "      <td>2736</td>\n",
              "    </tr>\n",
              "  </tbody>\n",
              "</table>\n",
              "<p>5 rows × 24 columns</p>\n",
              "</div>\n",
              "      <button class=\"colab-df-convert\" onclick=\"convertToInteractive('df-5d4eb35c-2670-4ece-9572-d08a52770e80')\"\n",
              "              title=\"Convert this dataframe to an interactive table.\"\n",
              "              style=\"display:none;\">\n",
              "        \n",
              "  <svg xmlns=\"http://www.w3.org/2000/svg\" height=\"24px\"viewBox=\"0 0 24 24\"\n",
              "       width=\"24px\">\n",
              "    <path d=\"M0 0h24v24H0V0z\" fill=\"none\"/>\n",
              "    <path d=\"M18.56 5.44l.94 2.06.94-2.06 2.06-.94-2.06-.94-.94-2.06-.94 2.06-2.06.94zm-11 1L8.5 8.5l.94-2.06 2.06-.94-2.06-.94L8.5 2.5l-.94 2.06-2.06.94zm10 10l.94 2.06.94-2.06 2.06-.94-2.06-.94-.94-2.06-.94 2.06-2.06.94z\"/><path d=\"M17.41 7.96l-1.37-1.37c-.4-.4-.92-.59-1.43-.59-.52 0-1.04.2-1.43.59L10.3 9.45l-7.72 7.72c-.78.78-.78 2.05 0 2.83L4 21.41c.39.39.9.59 1.41.59.51 0 1.02-.2 1.41-.59l7.78-7.78 2.81-2.81c.8-.78.8-2.07 0-2.86zM5.41 20L4 18.59l7.72-7.72 1.47 1.35L5.41 20z\"/>\n",
              "  </svg>\n",
              "      </button>\n",
              "      \n",
              "  <style>\n",
              "    .colab-df-container {\n",
              "      display:flex;\n",
              "      flex-wrap:wrap;\n",
              "      gap: 12px;\n",
              "    }\n",
              "\n",
              "    .colab-df-convert {\n",
              "      background-color: #E8F0FE;\n",
              "      border: none;\n",
              "      border-radius: 50%;\n",
              "      cursor: pointer;\n",
              "      display: none;\n",
              "      fill: #1967D2;\n",
              "      height: 32px;\n",
              "      padding: 0 0 0 0;\n",
              "      width: 32px;\n",
              "    }\n",
              "\n",
              "    .colab-df-convert:hover {\n",
              "      background-color: #E2EBFA;\n",
              "      box-shadow: 0px 1px 2px rgba(60, 64, 67, 0.3), 0px 1px 3px 1px rgba(60, 64, 67, 0.15);\n",
              "      fill: #174EA6;\n",
              "    }\n",
              "\n",
              "    [theme=dark] .colab-df-convert {\n",
              "      background-color: #3B4455;\n",
              "      fill: #D2E3FC;\n",
              "    }\n",
              "\n",
              "    [theme=dark] .colab-df-convert:hover {\n",
              "      background-color: #434B5C;\n",
              "      box-shadow: 0px 1px 3px 1px rgba(0, 0, 0, 0.15);\n",
              "      filter: drop-shadow(0px 1px 2px rgba(0, 0, 0, 0.3));\n",
              "      fill: #FFFFFF;\n",
              "    }\n",
              "  </style>\n",
              "\n",
              "      <script>\n",
              "        const buttonEl =\n",
              "          document.querySelector('#df-5d4eb35c-2670-4ece-9572-d08a52770e80 button.colab-df-convert');\n",
              "        buttonEl.style.display =\n",
              "          google.colab.kernel.accessAllowed ? 'block' : 'none';\n",
              "\n",
              "        async function convertToInteractive(key) {\n",
              "          const element = document.querySelector('#df-5d4eb35c-2670-4ece-9572-d08a52770e80');\n",
              "          const dataTable =\n",
              "            await google.colab.kernel.invokeFunction('convertToInteractive',\n",
              "                                                     [key], {});\n",
              "          if (!dataTable) return;\n",
              "\n",
              "          const docLinkHtml = 'Like what you see? Visit the ' +\n",
              "            '<a target=\"_blank\" href=https://colab.research.google.com/notebooks/data_table.ipynb>data table notebook</a>'\n",
              "            + ' to learn more about interactive tables.';\n",
              "          element.innerHTML = '';\n",
              "          dataTable['output_type'] = 'display_data';\n",
              "          await google.colab.output.renderOutput(dataTable, element);\n",
              "          const docLink = document.createElement('div');\n",
              "          docLink.innerHTML = docLinkHtml;\n",
              "          element.appendChild(docLink);\n",
              "        }\n",
              "      </script>\n",
              "    </div>\n",
              "  </div>\n",
              "  "
            ]
          },
          "metadata": {},
          "execution_count": 11
        }
      ]
    },
    {
      "cell_type": "markdown",
      "metadata": {
        "id": "OEuzQzXCs_VP"
      },
      "source": [
        "### Fixing the Rows and Columns "
      ]
    },
    {
      "cell_type": "markdown",
      "metadata": {
        "id": "xQnP8MIas_VQ"
      },
      "source": [
        "As you can see, there is a column in “Attribute Dataset” named as ‘Size’. This column contains the values in abbreviation format. Write a code in Python to convert the followings:\n",
        "\n",
        "- M into  “Medium”\n",
        "- L into  “Large”\n",
        "- XL into “Extra large”\n",
        "- free into “Free”\n",
        "- S, s & small into “Small”.\n",
        "\n",
        "Now once you are done with changes in the dataset, what is the value of the lowest percentage, the highest percentage and the percentage of Small size categories in the column named “Size”?\n"
      ]
    },
    {
      "cell_type": "code",
      "execution_count": null,
      "metadata": {
        "colab": {
          "base_uri": "https://localhost:8080/"
        },
        "id": "k19M54Vds_VQ",
        "outputId": "ec87639a-86e7-4500-f5f6-e66c8facd8d7"
      },
      "outputs": [
        {
          "output_type": "execute_result",
          "data": {
            "text/plain": [
              "array(['M', 'L', 'XL', 'free', 'S', 'small', 's'], dtype=object)"
            ]
          },
          "metadata": {},
          "execution_count": 12
        }
      ],
      "source": [
        "# Column fixing, correcting size abbreviation. count the percentage of each size category in \"Size\" column.\n",
        "pd.unique(inp0.Size)"
      ]
    },
    {
      "cell_type": "code",
      "source": [
        "inp0.Size.value_counts()"
      ],
      "metadata": {
        "colab": {
          "base_uri": "https://localhost:8080/"
        },
        "id": "zBPJZN8V4Wop",
        "outputId": "c49b0825-a0d1-4369-b4ba-11fe0188db53"
      },
      "execution_count": null,
      "outputs": [
        {
          "output_type": "execute_result",
          "data": {
            "text/plain": [
              "M        171\n",
              "free     165\n",
              "L         93\n",
              "S         34\n",
              "XL        14\n",
              "small      1\n",
              "s          1\n",
              "Name: Size, dtype: int64"
            ]
          },
          "metadata": {},
          "execution_count": 13
        }
      ]
    },
    {
      "cell_type": "code",
      "source": [
        "inp0.Size.replace(['XL','L','M','S','s','small','free'], ['Extra large','Large','Medium','Small','Small','Small','Free'], inplace = True)"
      ],
      "metadata": {
        "id": "XelW8sTF4eHQ"
      },
      "execution_count": null,
      "outputs": []
    },
    {
      "cell_type": "code",
      "source": [
        "pd.unique(inp0.Size)"
      ],
      "metadata": {
        "colab": {
          "base_uri": "https://localhost:8080/"
        },
        "id": "6aYPd0QW53ZJ",
        "outputId": "d3e009e9-812c-4a5b-c351-18b2aaf084fd"
      },
      "execution_count": null,
      "outputs": [
        {
          "output_type": "execute_result",
          "data": {
            "text/plain": [
              "array(['Medium', 'Large', 'Extra large', 'Free', 'Small'], dtype=object)"
            ]
          },
          "metadata": {},
          "execution_count": 15
        }
      ]
    },
    {
      "cell_type": "code",
      "execution_count": null,
      "metadata": {
        "colab": {
          "base_uri": "https://localhost:8080/"
        },
        "id": "lzHROSpxs_VR",
        "outputId": "df241e2e-7d80-41ea-8513-5a647a1b9caf"
      },
      "outputs": [
        {
          "output_type": "execute_result",
          "data": {
            "text/plain": [
              "Medium         35.7\n",
              "Free           34.4\n",
              "Large          19.4\n",
              "Small           7.5\n",
              "Extra large     2.9\n",
              "Name: Size, dtype: float64"
            ]
          },
          "metadata": {},
          "execution_count": 16
        }
      ],
      "source": [
        "# Print the value counts of each category in \"Size\" column.\n",
        "round(inp0.Size.value_counts(normalize = True)*100,1)"
      ]
    },
    {
      "cell_type": "markdown",
      "metadata": {
        "id": "_zxu_mLks_VR"
      },
      "source": [
        "### Impute/Remove Missing values"
      ]
    },
    {
      "cell_type": "code",
      "execution_count": null,
      "metadata": {
        "colab": {
          "base_uri": "https://localhost:8080/"
        },
        "id": "IPKhvElYs_VR",
        "outputId": "8692704e-cac6-41e9-b85a-c7542908a5c3"
      },
      "outputs": [
        {
          "output_type": "execute_result",
          "data": {
            "text/plain": [
              "Dress_ID            0\n",
              "Style               0\n",
              "Price               2\n",
              "Rating              0\n",
              "Size                0\n",
              "Season              2\n",
              "NeckLine            3\n",
              "SleeveLength        2\n",
              "Material          119\n",
              "FabricType        256\n",
              "Decoration        224\n",
              "Pattern Type      102\n",
              "Recommendation      0\n",
              "dtype: int64"
            ]
          },
          "metadata": {},
          "execution_count": 17
        }
      ],
      "source": [
        "# Print the null count of each variables of inp0 and inp1.\n",
        "inp0.isnull().sum()"
      ]
    },
    {
      "cell_type": "code",
      "source": [
        "inp1.isnull().sum()"
      ],
      "metadata": {
        "colab": {
          "base_uri": "https://localhost:8080/"
        },
        "id": "6TrH0Us28iHq",
        "outputId": "d9ad45a0-4181-4953-8071-644760c710a6"
      },
      "execution_count": null,
      "outputs": [
        {
          "output_type": "execute_result",
          "data": {
            "text/plain": [
              "Dress_ID        0\n",
              "29-08-2013      0\n",
              "31-08-2013      0\n",
              "09-02-2013      0\n",
              "09-04-2013      0\n",
              "09-06-2013      0\n",
              "09-08-2013      0\n",
              "09-10-2013      0\n",
              "09-12-2013      0\n",
              "14-09-2013      0\n",
              "16-09-2013      0\n",
              "18-09-2013      0\n",
              "20-09-2013      0\n",
              "22-09-2013      0\n",
              "24-09-2013      0\n",
              "26-09-2013    222\n",
              "28-09-2013      0\n",
              "30-09-2013    257\n",
              "10-02-2013    259\n",
              "10-04-2013    258\n",
              "10-06-2013      0\n",
              "10-08-2013    255\n",
              "10-10-2013    255\n",
              "10-12-2013      0\n",
              "dtype: int64"
            ]
          },
          "metadata": {},
          "execution_count": 18
        }
      ]
    },
    {
      "cell_type": "markdown",
      "metadata": {
        "id": "Oi5DL-cUs_VS"
      },
      "source": [
        "You are given another dataset named “Dress Sales”. Now if you observe the datatypes of the columns using ‘inp1.info()’ command, you can identify that there are certain columns defined as object data type though they primarily consist of numeric data.\n",
        "\n",
        "Now if you try and convert these object data type columns into numeric data type(float), you will come across an error message. Try to correct this error.\n",
        "\n",
        "\n",
        "\n",
        "\n",
        "\n"
      ]
    },
    {
      "cell_type": "code",
      "source": [],
      "metadata": {
        "id": "s6wAVDKs8yxj"
      },
      "execution_count": null,
      "outputs": []
    },
    {
      "cell_type": "code",
      "execution_count": null,
      "metadata": {
        "colab": {
          "base_uri": "https://localhost:8080/"
        },
        "id": "XiYoCwDUs_VS",
        "outputId": "145ffa23-e8de-4408-b4bb-8b09331d46f5"
      },
      "outputs": [
        {
          "output_type": "stream",
          "name": "stdout",
          "text": [
            "<class 'pandas.core.frame.DataFrame'>\n",
            "RangeIndex: 479 entries, 0 to 478\n",
            "Data columns (total 24 columns):\n",
            " #   Column      Non-Null Count  Dtype  \n",
            "---  ------      --------------  -----  \n",
            " 0   Dress_ID    479 non-null    float64\n",
            " 1   29-08-2013  479 non-null    int64  \n",
            " 2   31-08-2013  479 non-null    int64  \n",
            " 3   09-02-2013  479 non-null    int64  \n",
            " 4   09-04-2013  479 non-null    int64  \n",
            " 5   09-06-2013  479 non-null    int64  \n",
            " 6   09-08-2013  479 non-null    int64  \n",
            " 7   09-10-2013  479 non-null    int64  \n",
            " 8   09-12-2013  479 non-null    object \n",
            " 9   14-09-2013  479 non-null    object \n",
            " 10  16-09-2013  479 non-null    object \n",
            " 11  18-09-2013  479 non-null    object \n",
            " 12  20-09-2013  479 non-null    object \n",
            " 13  22-09-2013  479 non-null    object \n",
            " 14  24-09-2013  479 non-null    int64  \n",
            " 15  26-09-2013  257 non-null    float64\n",
            " 16  28-09-2013  479 non-null    int64  \n",
            " 17  30-09-2013  222 non-null    float64\n",
            " 18  10-02-2013  220 non-null    float64\n",
            " 19  10-04-2013  221 non-null    float64\n",
            " 20  10-06-2013  479 non-null    int64  \n",
            " 21  10-08-2013  224 non-null    float64\n",
            " 22  10-10-2013  224 non-null    float64\n",
            " 23  10-12-2013  479 non-null    int64  \n",
            "dtypes: float64(7), int64(11), object(6)\n",
            "memory usage: 89.9+ KB\n"
          ]
        }
      ],
      "source": [
        "# Print the data types information of inp1 i.e. \"Dress Sales\" data.\n",
        "inp1.info()"
      ]
    },
    {
      "cell_type": "code",
      "execution_count": null,
      "metadata": {
        "id": "QaNsXqWVs_VS"
      },
      "outputs": [],
      "source": [
        "# Try to convert the object type into float type of data. YOU GET ERROR MESSAGE.\n",
        "#inp1['22-09-2013'] = pd.to_numeric(inp1['22-09-2013'])"
      ]
    },
    {
      "cell_type": "code",
      "execution_count": null,
      "metadata": {
        "id": "bQfC4CMEs_VT"
      },
      "outputs": [],
      "source": [
        "# Do the required changes in the \"Dress Sales\" data set to get null values on string values.\n",
        "inp1.loc[inp1['09-12-2013']== 'Removed',\"09-12-2013\"] = np.NaN\n",
        "\n",
        "inp1.loc[inp1['14-09-2013']== 'removed',\"14-09-2013\"] = np.NaN\n",
        "\n",
        "inp1.loc[inp1['16-09-2013']== 'removed',\"16-09-2013\"] = np.NaN\n",
        "\n",
        "inp1.loc[inp1['18-09-2013']== 'removed',\"18-09-2013\"] = np.NaN\n",
        "\n",
        "inp1.loc[inp1['20-09-2013']== 'removed',\"20-09-2013\"] = np.NaN\n",
        "\n",
        "inp1.loc[inp1['22-09-2013']== 'Orders',\"22-09-2013\"] = np.NaN"
      ]
    },
    {
      "cell_type": "code",
      "execution_count": null,
      "metadata": {
        "id": "MsiojzCcs_VT"
      },
      "outputs": [],
      "source": [
        "# Convert the object type columns in \"Dress Sales\" into float type of data type.\n",
        "inp1['22-09-2013'] = pd.to_numeric(inp1['22-09-2013'],downcast='float')"
      ]
    },
    {
      "cell_type": "code",
      "source": [
        "inp1['09-12-2013'] = pd.to_numeric(inp1['09-12-2013'],downcast='float')\n",
        "inp1['14-09-2013'] = pd.to_numeric(inp1['14-09-2013'],downcast='float')\n",
        "inp1['16-09-2013'] = pd.to_numeric(inp1['16-09-2013'],downcast='float')\n",
        "inp1['18-09-2013'] = pd.to_numeric(inp1['18-09-2013'],downcast='float')\n",
        "inp1['20-09-2013'] = pd.to_numeric(inp1['20-09-2013'],downcast='float')"
      ],
      "metadata": {
        "id": "xd38mKGS_eQ7"
      },
      "execution_count": null,
      "outputs": []
    },
    {
      "cell_type": "code",
      "source": [
        "inp1.info()"
      ],
      "metadata": {
        "colab": {
          "base_uri": "https://localhost:8080/"
        },
        "id": "t3q8kpYS_4PL",
        "outputId": "d29b9659-8e6f-49d4-afe2-2dc80b8af716"
      },
      "execution_count": null,
      "outputs": [
        {
          "output_type": "stream",
          "name": "stdout",
          "text": [
            "<class 'pandas.core.frame.DataFrame'>\n",
            "RangeIndex: 479 entries, 0 to 478\n",
            "Data columns (total 24 columns):\n",
            " #   Column      Non-Null Count  Dtype  \n",
            "---  ------      --------------  -----  \n",
            " 0   Dress_ID    479 non-null    float64\n",
            " 1   29-08-2013  479 non-null    int64  \n",
            " 2   31-08-2013  479 non-null    int64  \n",
            " 3   09-02-2013  479 non-null    int64  \n",
            " 4   09-04-2013  479 non-null    int64  \n",
            " 5   09-06-2013  479 non-null    int64  \n",
            " 6   09-08-2013  479 non-null    int64  \n",
            " 7   09-10-2013  479 non-null    int64  \n",
            " 8   09-12-2013  478 non-null    float32\n",
            " 9   14-09-2013  478 non-null    float32\n",
            " 10  16-09-2013  478 non-null    float32\n",
            " 11  18-09-2013  478 non-null    float32\n",
            " 12  20-09-2013  478 non-null    float32\n",
            " 13  22-09-2013  478 non-null    float32\n",
            " 14  24-09-2013  479 non-null    int64  \n",
            " 15  26-09-2013  257 non-null    float64\n",
            " 16  28-09-2013  479 non-null    int64  \n",
            " 17  30-09-2013  222 non-null    float64\n",
            " 18  10-02-2013  220 non-null    float64\n",
            " 19  10-04-2013  221 non-null    float64\n",
            " 20  10-06-2013  479 non-null    int64  \n",
            " 21  10-08-2013  224 non-null    float64\n",
            " 22  10-10-2013  224 non-null    float64\n",
            " 23  10-12-2013  479 non-null    int64  \n",
            "dtypes: float32(6), float64(7), int64(11)\n",
            "memory usage: 78.7 KB\n"
          ]
        }
      ]
    },
    {
      "cell_type": "markdown",
      "metadata": {
        "id": "scD2xqv0s_VT"
      },
      "source": [
        "When you see the null counts in “Dress Sales” dataset after performing all the operations that have been mentioned in jupyter notebook, you will find that there are some columns in “Dress Sales” data where there are more than 40% of missing values. Based on your understanding of dealing with missing values do the following steps."
      ]
    },
    {
      "cell_type": "code",
      "execution_count": null,
      "metadata": {
        "colab": {
          "base_uri": "https://localhost:8080/"
        },
        "id": "ZwPDkfcds_VU",
        "outputId": "e944029f-07ff-4475-b813-77da7bf5d5b1"
      },
      "outputs": [
        {
          "output_type": "execute_result",
          "data": {
            "text/plain": [
              "Dress_ID       0.000000\n",
              "29-08-2013     0.000000\n",
              "31-08-2013     0.000000\n",
              "09-02-2013     0.000000\n",
              "09-04-2013     0.000000\n",
              "09-06-2013     0.000000\n",
              "09-08-2013     0.000000\n",
              "09-10-2013     0.000000\n",
              "09-12-2013     0.208768\n",
              "14-09-2013     0.208768\n",
              "16-09-2013     0.208768\n",
              "18-09-2013     0.208768\n",
              "20-09-2013     0.208768\n",
              "22-09-2013     0.208768\n",
              "24-09-2013     0.000000\n",
              "26-09-2013    46.346555\n",
              "28-09-2013     0.000000\n",
              "30-09-2013    53.653445\n",
              "10-02-2013    54.070981\n",
              "10-04-2013    53.862213\n",
              "10-06-2013     0.000000\n",
              "10-08-2013    53.235908\n",
              "10-10-2013    53.235908\n",
              "10-12-2013     0.000000\n",
              "dtype: float64"
            ]
          },
          "metadata": {},
          "execution_count": 25
        }
      ],
      "source": [
        "# Print the null percetange of each column of inp1.\n",
        "inp1.isnull().sum()/len(inp1.index)*100"
      ]
    },
    {
      "cell_type": "code",
      "execution_count": null,
      "metadata": {
        "colab": {
          "base_uri": "https://localhost:8080/"
        },
        "id": "3ED-FCezs_VU",
        "outputId": "1bc445a4-2f36-4bd6-d80d-5885b2242243"
      },
      "outputs": [
        {
          "output_type": "stream",
          "name": "stdout",
          "text": [
            "<class 'pandas.core.frame.DataFrame'>\n",
            "RangeIndex: 479 entries, 0 to 478\n",
            "Data columns (total 18 columns):\n",
            " #   Column      Non-Null Count  Dtype  \n",
            "---  ------      --------------  -----  \n",
            " 0   Dress_ID    479 non-null    float64\n",
            " 1   29-08-2013  479 non-null    int64  \n",
            " 2   31-08-2013  479 non-null    int64  \n",
            " 3   09-02-2013  479 non-null    int64  \n",
            " 4   09-04-2013  479 non-null    int64  \n",
            " 5   09-06-2013  479 non-null    int64  \n",
            " 6   09-08-2013  479 non-null    int64  \n",
            " 7   09-10-2013  479 non-null    int64  \n",
            " 8   09-12-2013  478 non-null    float32\n",
            " 9   14-09-2013  478 non-null    float32\n",
            " 10  16-09-2013  478 non-null    float32\n",
            " 11  18-09-2013  478 non-null    float32\n",
            " 12  20-09-2013  478 non-null    float32\n",
            " 13  22-09-2013  478 non-null    float32\n",
            " 14  24-09-2013  479 non-null    int64  \n",
            " 15  28-09-2013  479 non-null    int64  \n",
            " 16  10-06-2013  479 non-null    int64  \n",
            " 17  10-12-2013  479 non-null    int64  \n",
            "dtypes: float32(6), float64(1), int64(11)\n",
            "memory usage: 56.3 KB\n"
          ]
        }
      ],
      "source": [
        "# Drop the columns in \"Dress Sales\" which have more than 40% of missing values.\n",
        "inp1 = inp1.drop(['26-09-2013','30-09-2013','10-02-2013','10-04-2013','10-08-2013','10-10-2013' ],axis=1)\n",
        "inp1.info()"
      ]
    },
    {
      "cell_type": "code",
      "source": [
        "inp1.isnull().sum()/len(inp1.index)*100"
      ],
      "metadata": {
        "colab": {
          "base_uri": "https://localhost:8080/"
        },
        "id": "gHotoWlnBFoE",
        "outputId": "2cc92438-9f45-40b7-f974-195ea9714b96"
      },
      "execution_count": null,
      "outputs": [
        {
          "output_type": "execute_result",
          "data": {
            "text/plain": [
              "Dress_ID      0.000000\n",
              "29-08-2013    0.000000\n",
              "31-08-2013    0.000000\n",
              "09-02-2013    0.000000\n",
              "09-04-2013    0.000000\n",
              "09-06-2013    0.000000\n",
              "09-08-2013    0.000000\n",
              "09-10-2013    0.000000\n",
              "09-12-2013    0.208768\n",
              "14-09-2013    0.208768\n",
              "16-09-2013    0.208768\n",
              "18-09-2013    0.208768\n",
              "20-09-2013    0.208768\n",
              "22-09-2013    0.208768\n",
              "24-09-2013    0.000000\n",
              "28-09-2013    0.000000\n",
              "10-06-2013    0.000000\n",
              "10-12-2013    0.000000\n",
              "dtype: float64"
            ]
          },
          "metadata": {},
          "execution_count": 27
        }
      ]
    },
    {
      "cell_type": "markdown",
      "metadata": {
        "id": "R7KycUAHs_VU"
      },
      "source": [
        "You should categorise the dates into seasons in “Dress Sales” data to simplify the analysis according to the following criteria:\n",
        "- June, July and August: Summer.\n",
        "- September, October and November: Autumn.\n",
        "- December, January and February: WInter.\n",
        "- March, April and May: Spring.\n",
        "\n",
        "\n"
      ]
    },
    {
      "cell_type": "code",
      "source": [
        "inp1.head()"
      ],
      "metadata": {
        "colab": {
          "base_uri": "https://localhost:8080/"
        },
        "id": "EHgEi7QgCg10",
        "outputId": "3fd680ba-a7c9-49e3-a037-4206e9fc4e6e"
      },
      "execution_count": null,
      "outputs": [
        {
          "output_type": "execute_result",
          "data": {
            "text/plain": [
              "       Dress_ID  29-08-2013  31-08-2013  09-02-2013  09-04-2013  09-06-2013  \\\n",
              "0  1.006033e+09        2114        2274        2491        2660        2727   \n",
              "1  1.212192e+09         151         275         570         750         813   \n",
              "2  1.190381e+09           6           7           7           7           8   \n",
              "3  9.660060e+08        1005        1128        1326        1455        1507   \n",
              "4  8.763395e+08         996        1175        1304        1396        1432   \n",
              "\n",
              "   09-08-2013  09-10-2013  09-12-2013  14-09-2013  16-09-2013  18-09-2013  \\\n",
              "0        2887        2930      3119.0      3204.0      3277.0      3321.0   \n",
              "1        1066        1164      1558.0      1756.0      1878.0      1985.0   \n",
              "2           8           9        10.0        10.0        10.0        10.0   \n",
              "3        1621        1637      1723.0      1746.0      1783.0      1796.0   \n",
              "4        1559        1570      1638.0      1655.0      1681.0      1743.0   \n",
              "\n",
              "   20-09-2013  22-09-2013  24-09-2013  28-09-2013  10-06-2013  10-12-2013  \n",
              "0      3386.0      3479.0        3554        3706        3897        4048  \n",
              "1      2106.0      2454.0        2710        3258        3911        4277  \n",
              "2        10.0        11.0          11          11          11          11  \n",
              "3      1812.0      1845.0        1878        1914        1952        1963  \n",
              "4      1824.0      1919.0        2032        2252        2544        2736  "
            ],
            "text/html": [
              "\n",
              "  <div id=\"df-1e888fb8-5e93-4a2b-a8e4-634f9fdf9abb\">\n",
              "    <div class=\"colab-df-container\">\n",
              "      <div>\n",
              "<style scoped>\n",
              "    .dataframe tbody tr th:only-of-type {\n",
              "        vertical-align: middle;\n",
              "    }\n",
              "\n",
              "    .dataframe tbody tr th {\n",
              "        vertical-align: top;\n",
              "    }\n",
              "\n",
              "    .dataframe thead th {\n",
              "        text-align: right;\n",
              "    }\n",
              "</style>\n",
              "<table border=\"1\" class=\"dataframe\">\n",
              "  <thead>\n",
              "    <tr style=\"text-align: right;\">\n",
              "      <th></th>\n",
              "      <th>Dress_ID</th>\n",
              "      <th>29-08-2013</th>\n",
              "      <th>31-08-2013</th>\n",
              "      <th>09-02-2013</th>\n",
              "      <th>09-04-2013</th>\n",
              "      <th>09-06-2013</th>\n",
              "      <th>09-08-2013</th>\n",
              "      <th>09-10-2013</th>\n",
              "      <th>09-12-2013</th>\n",
              "      <th>14-09-2013</th>\n",
              "      <th>16-09-2013</th>\n",
              "      <th>18-09-2013</th>\n",
              "      <th>20-09-2013</th>\n",
              "      <th>22-09-2013</th>\n",
              "      <th>24-09-2013</th>\n",
              "      <th>28-09-2013</th>\n",
              "      <th>10-06-2013</th>\n",
              "      <th>10-12-2013</th>\n",
              "    </tr>\n",
              "  </thead>\n",
              "  <tbody>\n",
              "    <tr>\n",
              "      <th>0</th>\n",
              "      <td>1.006033e+09</td>\n",
              "      <td>2114</td>\n",
              "      <td>2274</td>\n",
              "      <td>2491</td>\n",
              "      <td>2660</td>\n",
              "      <td>2727</td>\n",
              "      <td>2887</td>\n",
              "      <td>2930</td>\n",
              "      <td>3119.0</td>\n",
              "      <td>3204.0</td>\n",
              "      <td>3277.0</td>\n",
              "      <td>3321.0</td>\n",
              "      <td>3386.0</td>\n",
              "      <td>3479.0</td>\n",
              "      <td>3554</td>\n",
              "      <td>3706</td>\n",
              "      <td>3897</td>\n",
              "      <td>4048</td>\n",
              "    </tr>\n",
              "    <tr>\n",
              "      <th>1</th>\n",
              "      <td>1.212192e+09</td>\n",
              "      <td>151</td>\n",
              "      <td>275</td>\n",
              "      <td>570</td>\n",
              "      <td>750</td>\n",
              "      <td>813</td>\n",
              "      <td>1066</td>\n",
              "      <td>1164</td>\n",
              "      <td>1558.0</td>\n",
              "      <td>1756.0</td>\n",
              "      <td>1878.0</td>\n",
              "      <td>1985.0</td>\n",
              "      <td>2106.0</td>\n",
              "      <td>2454.0</td>\n",
              "      <td>2710</td>\n",
              "      <td>3258</td>\n",
              "      <td>3911</td>\n",
              "      <td>4277</td>\n",
              "    </tr>\n",
              "    <tr>\n",
              "      <th>2</th>\n",
              "      <td>1.190381e+09</td>\n",
              "      <td>6</td>\n",
              "      <td>7</td>\n",
              "      <td>7</td>\n",
              "      <td>7</td>\n",
              "      <td>8</td>\n",
              "      <td>8</td>\n",
              "      <td>9</td>\n",
              "      <td>10.0</td>\n",
              "      <td>10.0</td>\n",
              "      <td>10.0</td>\n",
              "      <td>10.0</td>\n",
              "      <td>10.0</td>\n",
              "      <td>11.0</td>\n",
              "      <td>11</td>\n",
              "      <td>11</td>\n",
              "      <td>11</td>\n",
              "      <td>11</td>\n",
              "    </tr>\n",
              "    <tr>\n",
              "      <th>3</th>\n",
              "      <td>9.660060e+08</td>\n",
              "      <td>1005</td>\n",
              "      <td>1128</td>\n",
              "      <td>1326</td>\n",
              "      <td>1455</td>\n",
              "      <td>1507</td>\n",
              "      <td>1621</td>\n",
              "      <td>1637</td>\n",
              "      <td>1723.0</td>\n",
              "      <td>1746.0</td>\n",
              "      <td>1783.0</td>\n",
              "      <td>1796.0</td>\n",
              "      <td>1812.0</td>\n",
              "      <td>1845.0</td>\n",
              "      <td>1878</td>\n",
              "      <td>1914</td>\n",
              "      <td>1952</td>\n",
              "      <td>1963</td>\n",
              "    </tr>\n",
              "    <tr>\n",
              "      <th>4</th>\n",
              "      <td>8.763395e+08</td>\n",
              "      <td>996</td>\n",
              "      <td>1175</td>\n",
              "      <td>1304</td>\n",
              "      <td>1396</td>\n",
              "      <td>1432</td>\n",
              "      <td>1559</td>\n",
              "      <td>1570</td>\n",
              "      <td>1638.0</td>\n",
              "      <td>1655.0</td>\n",
              "      <td>1681.0</td>\n",
              "      <td>1743.0</td>\n",
              "      <td>1824.0</td>\n",
              "      <td>1919.0</td>\n",
              "      <td>2032</td>\n",
              "      <td>2252</td>\n",
              "      <td>2544</td>\n",
              "      <td>2736</td>\n",
              "    </tr>\n",
              "  </tbody>\n",
              "</table>\n",
              "</div>\n",
              "      <button class=\"colab-df-convert\" onclick=\"convertToInteractive('df-1e888fb8-5e93-4a2b-a8e4-634f9fdf9abb')\"\n",
              "              title=\"Convert this dataframe to an interactive table.\"\n",
              "              style=\"display:none;\">\n",
              "        \n",
              "  <svg xmlns=\"http://www.w3.org/2000/svg\" height=\"24px\"viewBox=\"0 0 24 24\"\n",
              "       width=\"24px\">\n",
              "    <path d=\"M0 0h24v24H0V0z\" fill=\"none\"/>\n",
              "    <path d=\"M18.56 5.44l.94 2.06.94-2.06 2.06-.94-2.06-.94-.94-2.06-.94 2.06-2.06.94zm-11 1L8.5 8.5l.94-2.06 2.06-.94-2.06-.94L8.5 2.5l-.94 2.06-2.06.94zm10 10l.94 2.06.94-2.06 2.06-.94-2.06-.94-.94-2.06-.94 2.06-2.06.94z\"/><path d=\"M17.41 7.96l-1.37-1.37c-.4-.4-.92-.59-1.43-.59-.52 0-1.04.2-1.43.59L10.3 9.45l-7.72 7.72c-.78.78-.78 2.05 0 2.83L4 21.41c.39.39.9.59 1.41.59.51 0 1.02-.2 1.41-.59l7.78-7.78 2.81-2.81c.8-.78.8-2.07 0-2.86zM5.41 20L4 18.59l7.72-7.72 1.47 1.35L5.41 20z\"/>\n",
              "  </svg>\n",
              "      </button>\n",
              "      \n",
              "  <style>\n",
              "    .colab-df-container {\n",
              "      display:flex;\n",
              "      flex-wrap:wrap;\n",
              "      gap: 12px;\n",
              "    }\n",
              "\n",
              "    .colab-df-convert {\n",
              "      background-color: #E8F0FE;\n",
              "      border: none;\n",
              "      border-radius: 50%;\n",
              "      cursor: pointer;\n",
              "      display: none;\n",
              "      fill: #1967D2;\n",
              "      height: 32px;\n",
              "      padding: 0 0 0 0;\n",
              "      width: 32px;\n",
              "    }\n",
              "\n",
              "    .colab-df-convert:hover {\n",
              "      background-color: #E2EBFA;\n",
              "      box-shadow: 0px 1px 2px rgba(60, 64, 67, 0.3), 0px 1px 3px 1px rgba(60, 64, 67, 0.15);\n",
              "      fill: #174EA6;\n",
              "    }\n",
              "\n",
              "    [theme=dark] .colab-df-convert {\n",
              "      background-color: #3B4455;\n",
              "      fill: #D2E3FC;\n",
              "    }\n",
              "\n",
              "    [theme=dark] .colab-df-convert:hover {\n",
              "      background-color: #434B5C;\n",
              "      box-shadow: 0px 1px 3px 1px rgba(0, 0, 0, 0.15);\n",
              "      filter: drop-shadow(0px 1px 2px rgba(0, 0, 0, 0.3));\n",
              "      fill: #FFFFFF;\n",
              "    }\n",
              "  </style>\n",
              "\n",
              "      <script>\n",
              "        const buttonEl =\n",
              "          document.querySelector('#df-1e888fb8-5e93-4a2b-a8e4-634f9fdf9abb button.colab-df-convert');\n",
              "        buttonEl.style.display =\n",
              "          google.colab.kernel.accessAllowed ? 'block' : 'none';\n",
              "\n",
              "        async function convertToInteractive(key) {\n",
              "          const element = document.querySelector('#df-1e888fb8-5e93-4a2b-a8e4-634f9fdf9abb');\n",
              "          const dataTable =\n",
              "            await google.colab.kernel.invokeFunction('convertToInteractive',\n",
              "                                                     [key], {});\n",
              "          if (!dataTable) return;\n",
              "\n",
              "          const docLinkHtml = 'Like what you see? Visit the ' +\n",
              "            '<a target=\"_blank\" href=https://colab.research.google.com/notebooks/data_table.ipynb>data table notebook</a>'\n",
              "            + ' to learn more about interactive tables.';\n",
              "          element.innerHTML = '';\n",
              "          dataTable['output_type'] = 'display_data';\n",
              "          await google.colab.output.renderOutput(dataTable, element);\n",
              "          const docLink = document.createElement('div');\n",
              "          docLink.innerHTML = docLinkHtml;\n",
              "          element.appendChild(docLink);\n",
              "        }\n",
              "      </script>\n",
              "    </div>\n",
              "  </div>\n",
              "  "
            ]
          },
          "metadata": {},
          "execution_count": 28
        }
      ]
    },
    {
      "cell_type": "code",
      "execution_count": null,
      "metadata": {
        "id": "n00aX8Jes_VV"
      },
      "outputs": [],
      "source": [
        "# Create the four seasons columns in inp1, according to the above criteria.\n",
        "inp1['Spring'] = inp1.apply(lambda x: x['09-04-2013'], axis=1)\n",
        "\n",
        "inp1['Summer'] = inp1.apply(lambda x: x['29-08-2013'] + x['31-08-2013']+ x['09-06-2013']+ x['09-08-2013']+ x['10-06-2013'], axis=1)\n",
        "\n",
        "inp1['Winter'] = inp1.apply(lambda x: x['09-02-2013'] + x['09-12-2013']+ x['10-12-2013'], axis=1)\n",
        "\n",
        "inp1['Autumn'] = inp1.apply(lambda x: x['09-10-2013'] + x['14-09-2013']+ x['16-09-2013']+ x['18-09-2013']+ x['20-09-2013']+ x['22-09-2013']+ x['24-09-2013']+ x['28-09-2013'], axis=1)"
      ]
    },
    {
      "cell_type": "code",
      "execution_count": null,
      "metadata": {
        "colab": {
          "base_uri": "https://localhost:8080/"
        },
        "id": "5OXhBMLOs_VV",
        "outputId": "2bde19f1-9507-42cf-99a2-37501438803c"
      },
      "outputs": [
        {
          "output_type": "execute_result",
          "data": {
            "text/plain": [
              "Summer     691907.0\n",
              "Autumn    1353543.0\n",
              "Winter     473640.0\n",
              "Spring     143600.0\n",
              "dtype: float64"
            ]
          },
          "metadata": {},
          "execution_count": 30
        }
      ],
      "source": [
        "# calculate the sum of sales in each seasons in inp1 i.e. \"Dress Sales\".\n",
        "inp1[['Summer','Autumn','Winter','Spring']].sum()"
      ]
    },
    {
      "cell_type": "code",
      "source": [
        "inp0.isnull().sum()"
      ],
      "metadata": {
        "colab": {
          "base_uri": "https://localhost:8080/"
        },
        "id": "cKA3PAIYFhaF",
        "outputId": "35a5d1af-cd8b-4e9d-f28e-5b4918decaab"
      },
      "execution_count": null,
      "outputs": [
        {
          "output_type": "execute_result",
          "data": {
            "text/plain": [
              "Dress_ID            0\n",
              "Style               0\n",
              "Price               2\n",
              "Rating              0\n",
              "Size                0\n",
              "Season              2\n",
              "NeckLine            3\n",
              "SleeveLength        2\n",
              "Material          119\n",
              "FabricType        256\n",
              "Decoration        224\n",
              "Pattern Type      102\n",
              "Recommendation      0\n",
              "dtype: int64"
            ]
          },
          "metadata": {},
          "execution_count": 31
        }
      ]
    },
    {
      "cell_type": "markdown",
      "metadata": {
        "id": "G7aBLdfTs_VV"
      },
      "source": [
        "Now let's merge inp1 with inp0 with left join manner, so that the information of inp0 should remain intact."
      ]
    },
    {
      "cell_type": "code",
      "execution_count": null,
      "metadata": {
        "colab": {
          "base_uri": "https://localhost:8080/"
        },
        "id": "WxynRVzps_VV",
        "outputId": "c2319236-febf-4778-c63c-d9d99a875968"
      },
      "outputs": [
        {
          "output_type": "execute_result",
          "data": {
            "text/plain": [
              "     Dress_ID    Style    Price  Rating    Size  Season NeckLine SleeveLength  \\\n",
              "0  1006032852     Sexy      Low     4.6  Medium  Summer   o-neck    sleevless   \n",
              "1  1212192089   Casual      Low     0.0   Large  Summer   o-neck        Petal   \n",
              "2  1190380701  vintage     High     0.0   Large  Automn   o-neck         full   \n",
              "3   966005983    Brief  Average     4.6   Large  Spring   o-neck         full   \n",
              "4   876339541     cute      Low     4.5  Medium  Summer   o-neck    butterfly   \n",
              "\n",
              "        Material FabricType  ... 20-09-2013 22-09-2013  24-09-2013  \\\n",
              "0            NaN    chiffon  ...     3386.0     3479.0        3554   \n",
              "1     microfiber        NaN  ...     2106.0     2454.0        2710   \n",
              "2       polyster        NaN  ...       10.0       11.0          11   \n",
              "3           silk    chiffon  ...     1812.0     1845.0        1878   \n",
              "4  chiffonfabric    chiffon  ...     1824.0     1919.0        2032   \n",
              "\n",
              "   28-09-2013  10-06-2013  10-12-2013  Spring   Summer  Winter   Autumn  \n",
              "0        3706        3897        4048  2660.0  13899.0  9658.0  26857.0  \n",
              "1        3258        3911        4277   750.0   6216.0  6405.0  17311.0  \n",
              "2          11          11          11     7.0     40.0    28.0     82.0  \n",
              "3        1914        1952        1963  1455.0   7213.0  5012.0  14411.0  \n",
              "4        2252        2544        2736  1396.0   7706.0  5678.0  14676.0  \n",
              "\n",
              "[5 rows x 34 columns]"
            ],
            "text/html": [
              "\n",
              "  <div id=\"df-688edaa9-99b5-454e-ab38-6b3e85a776b7\">\n",
              "    <div class=\"colab-df-container\">\n",
              "      <div>\n",
              "<style scoped>\n",
              "    .dataframe tbody tr th:only-of-type {\n",
              "        vertical-align: middle;\n",
              "    }\n",
              "\n",
              "    .dataframe tbody tr th {\n",
              "        vertical-align: top;\n",
              "    }\n",
              "\n",
              "    .dataframe thead th {\n",
              "        text-align: right;\n",
              "    }\n",
              "</style>\n",
              "<table border=\"1\" class=\"dataframe\">\n",
              "  <thead>\n",
              "    <tr style=\"text-align: right;\">\n",
              "      <th></th>\n",
              "      <th>Dress_ID</th>\n",
              "      <th>Style</th>\n",
              "      <th>Price</th>\n",
              "      <th>Rating</th>\n",
              "      <th>Size</th>\n",
              "      <th>Season</th>\n",
              "      <th>NeckLine</th>\n",
              "      <th>SleeveLength</th>\n",
              "      <th>Material</th>\n",
              "      <th>FabricType</th>\n",
              "      <th>...</th>\n",
              "      <th>20-09-2013</th>\n",
              "      <th>22-09-2013</th>\n",
              "      <th>24-09-2013</th>\n",
              "      <th>28-09-2013</th>\n",
              "      <th>10-06-2013</th>\n",
              "      <th>10-12-2013</th>\n",
              "      <th>Spring</th>\n",
              "      <th>Summer</th>\n",
              "      <th>Winter</th>\n",
              "      <th>Autumn</th>\n",
              "    </tr>\n",
              "  </thead>\n",
              "  <tbody>\n",
              "    <tr>\n",
              "      <th>0</th>\n",
              "      <td>1006032852</td>\n",
              "      <td>Sexy</td>\n",
              "      <td>Low</td>\n",
              "      <td>4.6</td>\n",
              "      <td>Medium</td>\n",
              "      <td>Summer</td>\n",
              "      <td>o-neck</td>\n",
              "      <td>sleevless</td>\n",
              "      <td>NaN</td>\n",
              "      <td>chiffon</td>\n",
              "      <td>...</td>\n",
              "      <td>3386.0</td>\n",
              "      <td>3479.0</td>\n",
              "      <td>3554</td>\n",
              "      <td>3706</td>\n",
              "      <td>3897</td>\n",
              "      <td>4048</td>\n",
              "      <td>2660.0</td>\n",
              "      <td>13899.0</td>\n",
              "      <td>9658.0</td>\n",
              "      <td>26857.0</td>\n",
              "    </tr>\n",
              "    <tr>\n",
              "      <th>1</th>\n",
              "      <td>1212192089</td>\n",
              "      <td>Casual</td>\n",
              "      <td>Low</td>\n",
              "      <td>0.0</td>\n",
              "      <td>Large</td>\n",
              "      <td>Summer</td>\n",
              "      <td>o-neck</td>\n",
              "      <td>Petal</td>\n",
              "      <td>microfiber</td>\n",
              "      <td>NaN</td>\n",
              "      <td>...</td>\n",
              "      <td>2106.0</td>\n",
              "      <td>2454.0</td>\n",
              "      <td>2710</td>\n",
              "      <td>3258</td>\n",
              "      <td>3911</td>\n",
              "      <td>4277</td>\n",
              "      <td>750.0</td>\n",
              "      <td>6216.0</td>\n",
              "      <td>6405.0</td>\n",
              "      <td>17311.0</td>\n",
              "    </tr>\n",
              "    <tr>\n",
              "      <th>2</th>\n",
              "      <td>1190380701</td>\n",
              "      <td>vintage</td>\n",
              "      <td>High</td>\n",
              "      <td>0.0</td>\n",
              "      <td>Large</td>\n",
              "      <td>Automn</td>\n",
              "      <td>o-neck</td>\n",
              "      <td>full</td>\n",
              "      <td>polyster</td>\n",
              "      <td>NaN</td>\n",
              "      <td>...</td>\n",
              "      <td>10.0</td>\n",
              "      <td>11.0</td>\n",
              "      <td>11</td>\n",
              "      <td>11</td>\n",
              "      <td>11</td>\n",
              "      <td>11</td>\n",
              "      <td>7.0</td>\n",
              "      <td>40.0</td>\n",
              "      <td>28.0</td>\n",
              "      <td>82.0</td>\n",
              "    </tr>\n",
              "    <tr>\n",
              "      <th>3</th>\n",
              "      <td>966005983</td>\n",
              "      <td>Brief</td>\n",
              "      <td>Average</td>\n",
              "      <td>4.6</td>\n",
              "      <td>Large</td>\n",
              "      <td>Spring</td>\n",
              "      <td>o-neck</td>\n",
              "      <td>full</td>\n",
              "      <td>silk</td>\n",
              "      <td>chiffon</td>\n",
              "      <td>...</td>\n",
              "      <td>1812.0</td>\n",
              "      <td>1845.0</td>\n",
              "      <td>1878</td>\n",
              "      <td>1914</td>\n",
              "      <td>1952</td>\n",
              "      <td>1963</td>\n",
              "      <td>1455.0</td>\n",
              "      <td>7213.0</td>\n",
              "      <td>5012.0</td>\n",
              "      <td>14411.0</td>\n",
              "    </tr>\n",
              "    <tr>\n",
              "      <th>4</th>\n",
              "      <td>876339541</td>\n",
              "      <td>cute</td>\n",
              "      <td>Low</td>\n",
              "      <td>4.5</td>\n",
              "      <td>Medium</td>\n",
              "      <td>Summer</td>\n",
              "      <td>o-neck</td>\n",
              "      <td>butterfly</td>\n",
              "      <td>chiffonfabric</td>\n",
              "      <td>chiffon</td>\n",
              "      <td>...</td>\n",
              "      <td>1824.0</td>\n",
              "      <td>1919.0</td>\n",
              "      <td>2032</td>\n",
              "      <td>2252</td>\n",
              "      <td>2544</td>\n",
              "      <td>2736</td>\n",
              "      <td>1396.0</td>\n",
              "      <td>7706.0</td>\n",
              "      <td>5678.0</td>\n",
              "      <td>14676.0</td>\n",
              "    </tr>\n",
              "  </tbody>\n",
              "</table>\n",
              "<p>5 rows × 34 columns</p>\n",
              "</div>\n",
              "      <button class=\"colab-df-convert\" onclick=\"convertToInteractive('df-688edaa9-99b5-454e-ab38-6b3e85a776b7')\"\n",
              "              title=\"Convert this dataframe to an interactive table.\"\n",
              "              style=\"display:none;\">\n",
              "        \n",
              "  <svg xmlns=\"http://www.w3.org/2000/svg\" height=\"24px\"viewBox=\"0 0 24 24\"\n",
              "       width=\"24px\">\n",
              "    <path d=\"M0 0h24v24H0V0z\" fill=\"none\"/>\n",
              "    <path d=\"M18.56 5.44l.94 2.06.94-2.06 2.06-.94-2.06-.94-.94-2.06-.94 2.06-2.06.94zm-11 1L8.5 8.5l.94-2.06 2.06-.94-2.06-.94L8.5 2.5l-.94 2.06-2.06.94zm10 10l.94 2.06.94-2.06 2.06-.94-2.06-.94-.94-2.06-.94 2.06-2.06.94z\"/><path d=\"M17.41 7.96l-1.37-1.37c-.4-.4-.92-.59-1.43-.59-.52 0-1.04.2-1.43.59L10.3 9.45l-7.72 7.72c-.78.78-.78 2.05 0 2.83L4 21.41c.39.39.9.59 1.41.59.51 0 1.02-.2 1.41-.59l7.78-7.78 2.81-2.81c.8-.78.8-2.07 0-2.86zM5.41 20L4 18.59l7.72-7.72 1.47 1.35L5.41 20z\"/>\n",
              "  </svg>\n",
              "      </button>\n",
              "      \n",
              "  <style>\n",
              "    .colab-df-container {\n",
              "      display:flex;\n",
              "      flex-wrap:wrap;\n",
              "      gap: 12px;\n",
              "    }\n",
              "\n",
              "    .colab-df-convert {\n",
              "      background-color: #E8F0FE;\n",
              "      border: none;\n",
              "      border-radius: 50%;\n",
              "      cursor: pointer;\n",
              "      display: none;\n",
              "      fill: #1967D2;\n",
              "      height: 32px;\n",
              "      padding: 0 0 0 0;\n",
              "      width: 32px;\n",
              "    }\n",
              "\n",
              "    .colab-df-convert:hover {\n",
              "      background-color: #E2EBFA;\n",
              "      box-shadow: 0px 1px 2px rgba(60, 64, 67, 0.3), 0px 1px 3px 1px rgba(60, 64, 67, 0.15);\n",
              "      fill: #174EA6;\n",
              "    }\n",
              "\n",
              "    [theme=dark] .colab-df-convert {\n",
              "      background-color: #3B4455;\n",
              "      fill: #D2E3FC;\n",
              "    }\n",
              "\n",
              "    [theme=dark] .colab-df-convert:hover {\n",
              "      background-color: #434B5C;\n",
              "      box-shadow: 0px 1px 3px 1px rgba(0, 0, 0, 0.15);\n",
              "      filter: drop-shadow(0px 1px 2px rgba(0, 0, 0, 0.3));\n",
              "      fill: #FFFFFF;\n",
              "    }\n",
              "  </style>\n",
              "\n",
              "      <script>\n",
              "        const buttonEl =\n",
              "          document.querySelector('#df-688edaa9-99b5-454e-ab38-6b3e85a776b7 button.colab-df-convert');\n",
              "        buttonEl.style.display =\n",
              "          google.colab.kernel.accessAllowed ? 'block' : 'none';\n",
              "\n",
              "        async function convertToInteractive(key) {\n",
              "          const element = document.querySelector('#df-688edaa9-99b5-454e-ab38-6b3e85a776b7');\n",
              "          const dataTable =\n",
              "            await google.colab.kernel.invokeFunction('convertToInteractive',\n",
              "                                                     [key], {});\n",
              "          if (!dataTable) return;\n",
              "\n",
              "          const docLinkHtml = 'Like what you see? Visit the ' +\n",
              "            '<a target=\"_blank\" href=https://colab.research.google.com/notebooks/data_table.ipynb>data table notebook</a>'\n",
              "            + ' to learn more about interactive tables.';\n",
              "          element.innerHTML = '';\n",
              "          dataTable['output_type'] = 'display_data';\n",
              "          await google.colab.output.renderOutput(dataTable, element);\n",
              "          const docLink = document.createElement('div');\n",
              "          docLink.innerHTML = docLinkHtml;\n",
              "          element.appendChild(docLink);\n",
              "        }\n",
              "      </script>\n",
              "    </div>\n",
              "  </div>\n",
              "  "
            ]
          },
          "metadata": {},
          "execution_count": 32
        }
      ],
      "source": [
        "# Merge inp0 with inp1 into inp0. this is also called left merge.\n",
        "inp0 = pd.merge(left=inp0,right=inp1, how='left', left_on='Dress_ID', right_on='Dress_ID')\n",
        "inp0.head()"
      ]
    },
    {
      "cell_type": "code",
      "execution_count": null,
      "metadata": {
        "id": "NCczGu4us_VW"
      },
      "outputs": [],
      "source": [
        "# Now Drop the Date columns from inp0 as it is already combined into four seasons.\n",
        "inp0.drop(inp0.loc[:,'29-08-2013':'10-12-2013'].columns, axis= 1, inplace= True)"
      ]
    },
    {
      "cell_type": "markdown",
      "metadata": {
        "id": "-kk4go_1s_VW"
      },
      "source": [
        "Print the null count of inp0 to get the idea about the missing values in data set."
      ]
    },
    {
      "cell_type": "code",
      "execution_count": null,
      "metadata": {
        "colab": {
          "base_uri": "https://localhost:8080/"
        },
        "id": "0Q467vh5s_VW",
        "outputId": "ee2e94de-9613-4619-cdc3-f926e9055dee"
      },
      "outputs": [
        {
          "output_type": "execute_result",
          "data": {
            "text/plain": [
              "Dress_ID            0\n",
              "Style               0\n",
              "Price               2\n",
              "Rating              0\n",
              "Size                0\n",
              "Season              2\n",
              "NeckLine            3\n",
              "SleeveLength        2\n",
              "Material          119\n",
              "FabricType        256\n",
              "Decoration        224\n",
              "Pattern Type      102\n",
              "Recommendation      0\n",
              "Spring              0\n",
              "Summer              0\n",
              "Winter              1\n",
              "Autumn              2\n",
              "dtype: int64"
            ]
          },
          "metadata": {},
          "execution_count": 34
        }
      ],
      "source": [
        "# Print the null count of each columns in inp0 dataframe i.e. combined data frame of inp0 and inp1 without date columns.\n",
        "inp0.isnull().sum()"
      ]
    },
    {
      "cell_type": "markdown",
      "metadata": {
        "id": "mhh8tYm-s_VW"
      },
      "source": [
        "You can see that there are two types of variables one with a large number of missing values and another is very less number of missing values. These two columns can be categorized as:\n",
        "\n",
        "Type-1: Missing values are very less (around 2 or 3 missing values): Price, Season, NeckLine, SleeveLength, Winter and Autumn. \n",
        "\n",
        "Type-2: Missing values are large in numbers (more than 15%): Material, FabricType, Decoration and Pattern Type.\n",
        "\n"
      ]
    },
    {
      "cell_type": "code",
      "execution_count": null,
      "metadata": {
        "id": "ljPlRS9os_VX"
      },
      "outputs": [],
      "source": [
        "# Deal with the missing values of Type-1 columns: Price, Season, NeckLine, SleeveLength, Winter and Autumn.\n",
        "inp0 = inp0[~inp0.Price.isnull()]\n",
        "\n",
        "inp0 = inp0[~inp0.Season.isnull()]\n",
        "\n",
        "inp0 = inp0[~inp0.NeckLine.isnull()]\n",
        "\n",
        "inp0 = inp0[~inp0.SleeveLength.isnull()]\n",
        "\n",
        "inp1 = inp1[~inp1.Winter.isnull()]\n",
        "\n",
        "inp1 = inp1[~inp1.Autumn.isnull()]"
      ]
    },
    {
      "cell_type": "code",
      "execution_count": null,
      "metadata": {
        "id": "QQqG3gZfs_VX"
      },
      "outputs": [],
      "source": [
        "# Deal with the missing values for Type-2 columns: Material, FabricType, Decoration and Pattern Type.\n",
        "inp0.Material= inp0.Material.replace(np.nan, \"Missing\")\n",
        "\n",
        "inp0.FabricType= inp0.FabricType.replace(np.nan, \"Missing\")\n",
        "\n",
        "inp0.Decoration= inp0.Decoration.replace(np.nan, \"Missing\")\n",
        "\n",
        "inp0['Pattern Type']= inp0['Pattern Type'].replace(np.nan, \"Missing\")"
      ]
    },
    {
      "cell_type": "markdown",
      "metadata": {
        "id": "RAeW-Ev7s_VX"
      },
      "source": [
        "### Standardise value "
      ]
    },
    {
      "cell_type": "markdown",
      "metadata": {
        "id": "sQG5sHlfs_VX"
      },
      "source": [
        "In the given dataset, there are certain discrepancies with the categorical names such as irregular spellings. Choose the correct option of columns with irregular categories and update them.\n",
        " \n",
        "- Season, NeckLine\n",
        "- Price, Material\n",
        "- fabricType, Decoration\n",
        "- Season, SleeveLength\n"
      ]
    },
    {
      "cell_type": "code",
      "execution_count": null,
      "metadata": {
        "colab": {
          "base_uri": "https://localhost:8080/"
        },
        "id": "MPJb06G_s_VY",
        "outputId": "bccfec7d-f818-412a-bc39-478f768f327c"
      },
      "outputs": [
        {
          "output_type": "execute_result",
          "data": {
            "text/plain": [
              "array(['Summer', 'Automn', 'Spring', 'Winter', 'spring', 'winter',\n",
              "       'Autumn'], dtype=object)"
            ]
          },
          "metadata": {},
          "execution_count": 37
        }
      ],
      "source": [
        "#correcting the spellings.\n",
        "inp0.Season.unique()"
      ]
    },
    {
      "cell_type": "code",
      "source": [
        "inp0.SleeveLength.unique()"
      ],
      "metadata": {
        "colab": {
          "base_uri": "https://localhost:8080/"
        },
        "id": "LDnwUgfQM9TA",
        "outputId": "5d2a7551-7896-4374-8629-3e16eecfeca4"
      },
      "execution_count": null,
      "outputs": [
        {
          "output_type": "execute_result",
          "data": {
            "text/plain": [
              "array(['sleevless', 'Petal', 'full', 'butterfly', 'short', 'threequarter',\n",
              "       'halfsleeve', 'cap-sleeves', 'turndowncollor', 'threequater',\n",
              "       'capsleeves', 'sleeveless', 'sleeevless', 'half', 'urndowncollor',\n",
              "       'thressqatar', 'sleveless'], dtype=object)"
            ]
          },
          "metadata": {},
          "execution_count": 38
        }
      ]
    },
    {
      "cell_type": "code",
      "source": [
        "inp0.SleeveLength= inp0.SleeveLength.replace(['cap-sleeves', 'capsleeves'], \"cap sleeves\")\n",
        "\n",
        "inp0.SleeveLength= inp0.SleeveLength.replace('full', \"full sleeves\")\n",
        "\n",
        "inp0.SleeveLength= inp0.SleeveLength.replace(['half','halfsleeve'], \"half sleeves\")\n",
        "\n",
        "inp0.SleeveLength= inp0.SleeveLength.replace(['sleevless', 'sleeevless', 'sleeveless', 'sleveless'], \"sleeve less\")\n",
        "\n",
        "inp0.SleeveLength= inp0.SleeveLength.replace(['threequarter','threequater', 'thressqatar'], \"three quater\")\n",
        "\n",
        "inp0.SleeveLength= inp0.SleeveLength.replace(['turndowncollor','urndowncollor'], \"turn down collar\")"
      ],
      "metadata": {
        "id": "iEZO2DoJPjfJ"
      },
      "execution_count": null,
      "outputs": []
    },
    {
      "cell_type": "code",
      "source": [
        "#inp0.SleeveLength.replace(['sleveless','sleevless','sleeevless','capsleeves','threequater','half','urndowncollor','thressqatar'],['sleeveless','sleeveless','sleeveless','cap-sleeves','threequarter','halfsleeve','turndowncollor','threequarter'],inplace = True)"
      ],
      "metadata": {
        "id": "BPmNeZpVNa2Q"
      },
      "execution_count": null,
      "outputs": []
    },
    {
      "cell_type": "code",
      "source": [
        "inp0.SleeveLength.unique()"
      ],
      "metadata": {
        "colab": {
          "base_uri": "https://localhost:8080/"
        },
        "id": "_Kqhufo1PBaw",
        "outputId": "85ddcd7a-59e5-4363-d824-ccb4ecd05f13"
      },
      "execution_count": null,
      "outputs": [
        {
          "output_type": "execute_result",
          "data": {
            "text/plain": [
              "array(['sleeve less', 'Petal', 'full sleeves', 'butterfly', 'short',\n",
              "       'three quater', 'half sleeves', 'cap sleeves', 'turn down collar'],\n",
              "      dtype=object)"
            ]
          },
          "metadata": {},
          "execution_count": 41
        }
      ]
    },
    {
      "cell_type": "code",
      "execution_count": null,
      "metadata": {
        "colab": {
          "base_uri": "https://localhost:8080/"
        },
        "id": "tuTlzjQ5s_VY",
        "outputId": "4ed0e796-57dc-4601-d0ef-fc29493a0028"
      },
      "outputs": [
        {
          "output_type": "execute_result",
          "data": {
            "text/plain": [
              "array(['Summer', 'Autumn', 'Spring', 'Winter', 'spring'], dtype=object)"
            ]
          },
          "metadata": {},
          "execution_count": 42
        }
      ],
      "source": [
        "#correcting the Spellings.\n",
        "inp0.Season.replace(['Automn','winter'],['Autumn','Winter'],inplace = True)\n",
        "inp0.Season.unique()"
      ]
    },
    {
      "cell_type": "code",
      "source": [],
      "metadata": {
        "id": "ciksrGevM76a"
      },
      "execution_count": null,
      "outputs": []
    },
    {
      "cell_type": "markdown",
      "metadata": {
        "id": "GmOPdF1ws_VY"
      },
      "source": [
        "## Univariate Analysis "
      ]
    },
    {
      "cell_type": "markdown",
      "metadata": {
        "id": "Zo-VukFMs_VY"
      },
      "source": [
        "### Categorical Unordered Univariate Analysis\n",
        " "
      ]
    },
    {
      "cell_type": "markdown",
      "metadata": {
        "id": "h7CrxX0is_VZ"
      },
      "source": [
        "There is a column named ‘Style’ in ‘Attribute Dataset’ which consists of the different style categories of the women apparels. Certain categories whose total sale is less than 50000 across all the seasons is considered under one single category as ‘Others’.\n"
      ]
    },
    {
      "cell_type": "markdown",
      "metadata": {
        "id": "fg_htlFTs_VZ"
      },
      "source": [
        "Which of the following categories in ‘Style’ column can be grouped into ‘Others’ category? and perform the grouping operation in the notebook for further analysis.\n",
        "- Flare, fashion\n",
        "- Novelty, bohemian\n",
        "- OL, fashion, work\n",
        "- Novelty, fashion, Flare\n"
      ]
    },
    {
      "cell_type": "code",
      "source": [
        "inp0.head()"
      ],
      "metadata": {
        "colab": {
          "base_uri": "https://localhost:8080/",
          "height": 288
        },
        "id": "4jusprHilk6_",
        "outputId": "fc5c316e-3bd4-4a9d-b081-fabffccd81cd"
      },
      "execution_count": null,
      "outputs": [
        {
          "output_type": "execute_result",
          "data": {
            "text/plain": [
              "     Dress_ID    Style    Price  Rating    Size  Season NeckLine  \\\n",
              "0  1006032852     Sexy      Low     4.6  Medium  Summer   o-neck   \n",
              "1  1212192089   Casual      Low     0.0   Large  Summer   o-neck   \n",
              "2  1190380701  vintage     High     0.0   Large  Autumn   o-neck   \n",
              "3   966005983    Brief  Average     4.6   Large  Spring   o-neck   \n",
              "4   876339541     cute      Low     4.5  Medium  Summer   o-neck   \n",
              "\n",
              "   SleeveLength       Material FabricType  Decoration Pattern Type  \\\n",
              "0   sleeve less        Missing    chiffon     ruffles       animal   \n",
              "1         Petal     microfiber    Missing     ruffles       animal   \n",
              "2  full sleeves       polyster    Missing     Missing        print   \n",
              "3  full sleeves           silk    chiffon  embroidary        print   \n",
              "4     butterfly  chiffonfabric    chiffon         bow          dot   \n",
              "\n",
              "   Recommendation  Spring   Summer  Winter   Autumn  \n",
              "0               1  2660.0  13899.0  9658.0  26857.0  \n",
              "1               0   750.0   6216.0  6405.0  17311.0  \n",
              "2               0     7.0     40.0    28.0     82.0  \n",
              "3               1  1455.0   7213.0  5012.0  14411.0  \n",
              "4               0  1396.0   7706.0  5678.0  14676.0  "
            ],
            "text/html": [
              "\n",
              "  <div id=\"df-394181b8-5e93-4c49-a444-c13f6a60baf5\">\n",
              "    <div class=\"colab-df-container\">\n",
              "      <div>\n",
              "<style scoped>\n",
              "    .dataframe tbody tr th:only-of-type {\n",
              "        vertical-align: middle;\n",
              "    }\n",
              "\n",
              "    .dataframe tbody tr th {\n",
              "        vertical-align: top;\n",
              "    }\n",
              "\n",
              "    .dataframe thead th {\n",
              "        text-align: right;\n",
              "    }\n",
              "</style>\n",
              "<table border=\"1\" class=\"dataframe\">\n",
              "  <thead>\n",
              "    <tr style=\"text-align: right;\">\n",
              "      <th></th>\n",
              "      <th>Dress_ID</th>\n",
              "      <th>Style</th>\n",
              "      <th>Price</th>\n",
              "      <th>Rating</th>\n",
              "      <th>Size</th>\n",
              "      <th>Season</th>\n",
              "      <th>NeckLine</th>\n",
              "      <th>SleeveLength</th>\n",
              "      <th>Material</th>\n",
              "      <th>FabricType</th>\n",
              "      <th>Decoration</th>\n",
              "      <th>Pattern Type</th>\n",
              "      <th>Recommendation</th>\n",
              "      <th>Spring</th>\n",
              "      <th>Summer</th>\n",
              "      <th>Winter</th>\n",
              "      <th>Autumn</th>\n",
              "    </tr>\n",
              "  </thead>\n",
              "  <tbody>\n",
              "    <tr>\n",
              "      <th>0</th>\n",
              "      <td>1006032852</td>\n",
              "      <td>Sexy</td>\n",
              "      <td>Low</td>\n",
              "      <td>4.6</td>\n",
              "      <td>Medium</td>\n",
              "      <td>Summer</td>\n",
              "      <td>o-neck</td>\n",
              "      <td>sleeve less</td>\n",
              "      <td>Missing</td>\n",
              "      <td>chiffon</td>\n",
              "      <td>ruffles</td>\n",
              "      <td>animal</td>\n",
              "      <td>1</td>\n",
              "      <td>2660.0</td>\n",
              "      <td>13899.0</td>\n",
              "      <td>9658.0</td>\n",
              "      <td>26857.0</td>\n",
              "    </tr>\n",
              "    <tr>\n",
              "      <th>1</th>\n",
              "      <td>1212192089</td>\n",
              "      <td>Casual</td>\n",
              "      <td>Low</td>\n",
              "      <td>0.0</td>\n",
              "      <td>Large</td>\n",
              "      <td>Summer</td>\n",
              "      <td>o-neck</td>\n",
              "      <td>Petal</td>\n",
              "      <td>microfiber</td>\n",
              "      <td>Missing</td>\n",
              "      <td>ruffles</td>\n",
              "      <td>animal</td>\n",
              "      <td>0</td>\n",
              "      <td>750.0</td>\n",
              "      <td>6216.0</td>\n",
              "      <td>6405.0</td>\n",
              "      <td>17311.0</td>\n",
              "    </tr>\n",
              "    <tr>\n",
              "      <th>2</th>\n",
              "      <td>1190380701</td>\n",
              "      <td>vintage</td>\n",
              "      <td>High</td>\n",
              "      <td>0.0</td>\n",
              "      <td>Large</td>\n",
              "      <td>Autumn</td>\n",
              "      <td>o-neck</td>\n",
              "      <td>full sleeves</td>\n",
              "      <td>polyster</td>\n",
              "      <td>Missing</td>\n",
              "      <td>Missing</td>\n",
              "      <td>print</td>\n",
              "      <td>0</td>\n",
              "      <td>7.0</td>\n",
              "      <td>40.0</td>\n",
              "      <td>28.0</td>\n",
              "      <td>82.0</td>\n",
              "    </tr>\n",
              "    <tr>\n",
              "      <th>3</th>\n",
              "      <td>966005983</td>\n",
              "      <td>Brief</td>\n",
              "      <td>Average</td>\n",
              "      <td>4.6</td>\n",
              "      <td>Large</td>\n",
              "      <td>Spring</td>\n",
              "      <td>o-neck</td>\n",
              "      <td>full sleeves</td>\n",
              "      <td>silk</td>\n",
              "      <td>chiffon</td>\n",
              "      <td>embroidary</td>\n",
              "      <td>print</td>\n",
              "      <td>1</td>\n",
              "      <td>1455.0</td>\n",
              "      <td>7213.0</td>\n",
              "      <td>5012.0</td>\n",
              "      <td>14411.0</td>\n",
              "    </tr>\n",
              "    <tr>\n",
              "      <th>4</th>\n",
              "      <td>876339541</td>\n",
              "      <td>cute</td>\n",
              "      <td>Low</td>\n",
              "      <td>4.5</td>\n",
              "      <td>Medium</td>\n",
              "      <td>Summer</td>\n",
              "      <td>o-neck</td>\n",
              "      <td>butterfly</td>\n",
              "      <td>chiffonfabric</td>\n",
              "      <td>chiffon</td>\n",
              "      <td>bow</td>\n",
              "      <td>dot</td>\n",
              "      <td>0</td>\n",
              "      <td>1396.0</td>\n",
              "      <td>7706.0</td>\n",
              "      <td>5678.0</td>\n",
              "      <td>14676.0</td>\n",
              "    </tr>\n",
              "  </tbody>\n",
              "</table>\n",
              "</div>\n",
              "      <button class=\"colab-df-convert\" onclick=\"convertToInteractive('df-394181b8-5e93-4c49-a444-c13f6a60baf5')\"\n",
              "              title=\"Convert this dataframe to an interactive table.\"\n",
              "              style=\"display:none;\">\n",
              "        \n",
              "  <svg xmlns=\"http://www.w3.org/2000/svg\" height=\"24px\"viewBox=\"0 0 24 24\"\n",
              "       width=\"24px\">\n",
              "    <path d=\"M0 0h24v24H0V0z\" fill=\"none\"/>\n",
              "    <path d=\"M18.56 5.44l.94 2.06.94-2.06 2.06-.94-2.06-.94-.94-2.06-.94 2.06-2.06.94zm-11 1L8.5 8.5l.94-2.06 2.06-.94-2.06-.94L8.5 2.5l-.94 2.06-2.06.94zm10 10l.94 2.06.94-2.06 2.06-.94-2.06-.94-.94-2.06-.94 2.06-2.06.94z\"/><path d=\"M17.41 7.96l-1.37-1.37c-.4-.4-.92-.59-1.43-.59-.52 0-1.04.2-1.43.59L10.3 9.45l-7.72 7.72c-.78.78-.78 2.05 0 2.83L4 21.41c.39.39.9.59 1.41.59.51 0 1.02-.2 1.41-.59l7.78-7.78 2.81-2.81c.8-.78.8-2.07 0-2.86zM5.41 20L4 18.59l7.72-7.72 1.47 1.35L5.41 20z\"/>\n",
              "  </svg>\n",
              "      </button>\n",
              "      \n",
              "  <style>\n",
              "    .colab-df-container {\n",
              "      display:flex;\n",
              "      flex-wrap:wrap;\n",
              "      gap: 12px;\n",
              "    }\n",
              "\n",
              "    .colab-df-convert {\n",
              "      background-color: #E8F0FE;\n",
              "      border: none;\n",
              "      border-radius: 50%;\n",
              "      cursor: pointer;\n",
              "      display: none;\n",
              "      fill: #1967D2;\n",
              "      height: 32px;\n",
              "      padding: 0 0 0 0;\n",
              "      width: 32px;\n",
              "    }\n",
              "\n",
              "    .colab-df-convert:hover {\n",
              "      background-color: #E2EBFA;\n",
              "      box-shadow: 0px 1px 2px rgba(60, 64, 67, 0.3), 0px 1px 3px 1px rgba(60, 64, 67, 0.15);\n",
              "      fill: #174EA6;\n",
              "    }\n",
              "\n",
              "    [theme=dark] .colab-df-convert {\n",
              "      background-color: #3B4455;\n",
              "      fill: #D2E3FC;\n",
              "    }\n",
              "\n",
              "    [theme=dark] .colab-df-convert:hover {\n",
              "      background-color: #434B5C;\n",
              "      box-shadow: 0px 1px 3px 1px rgba(0, 0, 0, 0.15);\n",
              "      filter: drop-shadow(0px 1px 2px rgba(0, 0, 0, 0.3));\n",
              "      fill: #FFFFFF;\n",
              "    }\n",
              "  </style>\n",
              "\n",
              "      <script>\n",
              "        const buttonEl =\n",
              "          document.querySelector('#df-394181b8-5e93-4c49-a444-c13f6a60baf5 button.colab-df-convert');\n",
              "        buttonEl.style.display =\n",
              "          google.colab.kernel.accessAllowed ? 'block' : 'none';\n",
              "\n",
              "        async function convertToInteractive(key) {\n",
              "          const element = document.querySelector('#df-394181b8-5e93-4c49-a444-c13f6a60baf5');\n",
              "          const dataTable =\n",
              "            await google.colab.kernel.invokeFunction('convertToInteractive',\n",
              "                                                     [key], {});\n",
              "          if (!dataTable) return;\n",
              "\n",
              "          const docLinkHtml = 'Like what you see? Visit the ' +\n",
              "            '<a target=\"_blank\" href=https://colab.research.google.com/notebooks/data_table.ipynb>data table notebook</a>'\n",
              "            + ' to learn more about interactive tables.';\n",
              "          element.innerHTML = '';\n",
              "          dataTable['output_type'] = 'display_data';\n",
              "          await google.colab.output.renderOutput(dataTable, element);\n",
              "          const docLink = document.createElement('div');\n",
              "          docLink.innerHTML = docLinkHtml;\n",
              "          element.appendChild(docLink);\n",
              "        }\n",
              "      </script>\n",
              "    </div>\n",
              "  </div>\n",
              "  "
            ]
          },
          "metadata": {},
          "execution_count": 43
        }
      ]
    },
    {
      "cell_type": "code",
      "execution_count": null,
      "metadata": {
        "colab": {
          "base_uri": "https://localhost:8080/",
          "height": 175
        },
        "id": "yy9Jt2dcs_VZ",
        "outputId": "929c3fb0-ff5e-4586-ae7d-b40ae475b9e6"
      },
      "outputs": [
        {
          "output_type": "execute_result",
          "data": {
            "text/plain": [
              "     Style    Total\n",
              "2    Flare   2089.0\n",
              "3  Novelty  13286.0\n",
              "4       OL    289.0\n",
              "8  fashion    395.0"
            ],
            "text/html": [
              "\n",
              "  <div id=\"df-002ebf15-7152-4641-8e53-1f155b3cb9b6\">\n",
              "    <div class=\"colab-df-container\">\n",
              "      <div>\n",
              "<style scoped>\n",
              "    .dataframe tbody tr th:only-of-type {\n",
              "        vertical-align: middle;\n",
              "    }\n",
              "\n",
              "    .dataframe tbody tr th {\n",
              "        vertical-align: top;\n",
              "    }\n",
              "\n",
              "    .dataframe thead th {\n",
              "        text-align: right;\n",
              "    }\n",
              "</style>\n",
              "<table border=\"1\" class=\"dataframe\">\n",
              "  <thead>\n",
              "    <tr style=\"text-align: right;\">\n",
              "      <th></th>\n",
              "      <th>Style</th>\n",
              "      <th>Total</th>\n",
              "    </tr>\n",
              "  </thead>\n",
              "  <tbody>\n",
              "    <tr>\n",
              "      <th>2</th>\n",
              "      <td>Flare</td>\n",
              "      <td>2089.0</td>\n",
              "    </tr>\n",
              "    <tr>\n",
              "      <th>3</th>\n",
              "      <td>Novelty</td>\n",
              "      <td>13286.0</td>\n",
              "    </tr>\n",
              "    <tr>\n",
              "      <th>4</th>\n",
              "      <td>OL</td>\n",
              "      <td>289.0</td>\n",
              "    </tr>\n",
              "    <tr>\n",
              "      <th>8</th>\n",
              "      <td>fashion</td>\n",
              "      <td>395.0</td>\n",
              "    </tr>\n",
              "  </tbody>\n",
              "</table>\n",
              "</div>\n",
              "      <button class=\"colab-df-convert\" onclick=\"convertToInteractive('df-002ebf15-7152-4641-8e53-1f155b3cb9b6')\"\n",
              "              title=\"Convert this dataframe to an interactive table.\"\n",
              "              style=\"display:none;\">\n",
              "        \n",
              "  <svg xmlns=\"http://www.w3.org/2000/svg\" height=\"24px\"viewBox=\"0 0 24 24\"\n",
              "       width=\"24px\">\n",
              "    <path d=\"M0 0h24v24H0V0z\" fill=\"none\"/>\n",
              "    <path d=\"M18.56 5.44l.94 2.06.94-2.06 2.06-.94-2.06-.94-.94-2.06-.94 2.06-2.06.94zm-11 1L8.5 8.5l.94-2.06 2.06-.94-2.06-.94L8.5 2.5l-.94 2.06-2.06.94zm10 10l.94 2.06.94-2.06 2.06-.94-2.06-.94-.94-2.06-.94 2.06-2.06.94z\"/><path d=\"M17.41 7.96l-1.37-1.37c-.4-.4-.92-.59-1.43-.59-.52 0-1.04.2-1.43.59L10.3 9.45l-7.72 7.72c-.78.78-.78 2.05 0 2.83L4 21.41c.39.39.9.59 1.41.59.51 0 1.02-.2 1.41-.59l7.78-7.78 2.81-2.81c.8-.78.8-2.07 0-2.86zM5.41 20L4 18.59l7.72-7.72 1.47 1.35L5.41 20z\"/>\n",
              "  </svg>\n",
              "      </button>\n",
              "      \n",
              "  <style>\n",
              "    .colab-df-container {\n",
              "      display:flex;\n",
              "      flex-wrap:wrap;\n",
              "      gap: 12px;\n",
              "    }\n",
              "\n",
              "    .colab-df-convert {\n",
              "      background-color: #E8F0FE;\n",
              "      border: none;\n",
              "      border-radius: 50%;\n",
              "      cursor: pointer;\n",
              "      display: none;\n",
              "      fill: #1967D2;\n",
              "      height: 32px;\n",
              "      padding: 0 0 0 0;\n",
              "      width: 32px;\n",
              "    }\n",
              "\n",
              "    .colab-df-convert:hover {\n",
              "      background-color: #E2EBFA;\n",
              "      box-shadow: 0px 1px 2px rgba(60, 64, 67, 0.3), 0px 1px 3px 1px rgba(60, 64, 67, 0.15);\n",
              "      fill: #174EA6;\n",
              "    }\n",
              "\n",
              "    [theme=dark] .colab-df-convert {\n",
              "      background-color: #3B4455;\n",
              "      fill: #D2E3FC;\n",
              "    }\n",
              "\n",
              "    [theme=dark] .colab-df-convert:hover {\n",
              "      background-color: #434B5C;\n",
              "      box-shadow: 0px 1px 3px 1px rgba(0, 0, 0, 0.15);\n",
              "      filter: drop-shadow(0px 1px 2px rgba(0, 0, 0, 0.3));\n",
              "      fill: #FFFFFF;\n",
              "    }\n",
              "  </style>\n",
              "\n",
              "      <script>\n",
              "        const buttonEl =\n",
              "          document.querySelector('#df-002ebf15-7152-4641-8e53-1f155b3cb9b6 button.colab-df-convert');\n",
              "        buttonEl.style.display =\n",
              "          google.colab.kernel.accessAllowed ? 'block' : 'none';\n",
              "\n",
              "        async function convertToInteractive(key) {\n",
              "          const element = document.querySelector('#df-002ebf15-7152-4641-8e53-1f155b3cb9b6');\n",
              "          const dataTable =\n",
              "            await google.colab.kernel.invokeFunction('convertToInteractive',\n",
              "                                                     [key], {});\n",
              "          if (!dataTable) return;\n",
              "\n",
              "          const docLinkHtml = 'Like what you see? Visit the ' +\n",
              "            '<a target=\"_blank\" href=https://colab.research.google.com/notebooks/data_table.ipynb>data table notebook</a>'\n",
              "            + ' to learn more about interactive tables.';\n",
              "          element.innerHTML = '';\n",
              "          dataTable['output_type'] = 'display_data';\n",
              "          await google.colab.output.renderOutput(dataTable, element);\n",
              "          const docLink = document.createElement('div');\n",
              "          docLink.innerHTML = docLinkHtml;\n",
              "          element.appendChild(docLink);\n",
              "        }\n",
              "      </script>\n",
              "    </div>\n",
              "  </div>\n",
              "  "
            ]
          },
          "metadata": {},
          "execution_count": 71
        }
      ],
      "source": [
        "# Group \"Style\" categories into \"Others\" which have less than 50000 sales across all the seasons.\n",
        "inp0['Total']= inp0['Summer'] + inp0['Autumn'] + inp0['Winter'] + inp0['Spring']\n",
        "#style_group = inp0['Total'].groupby(inp0['Style']).sum().reset_index()\n",
        "style_group = inp0.groupby('Style')['Total'].sum().reset_index()\n",
        "res = style_group.loc[style_group['Total']<50000]\n",
        "res"
      ]
    },
    {
      "cell_type": "code",
      "source": [
        "inp0.Style.replace(['Flare','Novelty','OL','fashion'],'others',inplace=True)\n",
        "inp0.Style.unique()"
      ],
      "metadata": {
        "colab": {
          "base_uri": "https://localhost:8080/"
        },
        "id": "aRPa8SgEpAUq",
        "outputId": "a1bd035d-7260-491a-ea85-4fd6b63172b0"
      },
      "execution_count": null,
      "outputs": [
        {
          "output_type": "execute_result",
          "data": {
            "text/plain": [
              "array(['Sexy', 'Casual', 'vintage', 'Brief', 'cute', 'bohemian', 'others',\n",
              "       'party', 'sexy', 'work'], dtype=object)"
            ]
          },
          "metadata": {},
          "execution_count": 74
        }
      ]
    },
    {
      "cell_type": "markdown",
      "metadata": {
        "id": "hllidIE8s_VZ"
      },
      "source": [
        "What is the percentage of “cute” and “Others” category in “Style” column in “Attribute DataSet” respectively?\n",
        "- 46%, 5%\n",
        "- 9%, 2.1%\n",
        "- 2.1%, 5%\n",
        "- 13.8%, 9%\n"
      ]
    },
    {
      "cell_type": "code",
      "execution_count": null,
      "metadata": {
        "colab": {
          "base_uri": "https://localhost:8080/",
          "height": 282
        },
        "id": "v6J8YO0Us_VZ",
        "outputId": "a2299ed2-aae6-433f-981c-ef885aad68a3"
      },
      "outputs": [
        {
          "output_type": "execute_result",
          "data": {
            "text/plain": [
              "<matplotlib.axes._subplots.AxesSubplot at 0x7fd12b1fd490>"
            ]
          },
          "metadata": {},
          "execution_count": 79
        },
        {
          "output_type": "display_data",
          "data": {
            "text/plain": [
              "<Figure size 432x288 with 1 Axes>"
            ],
            "image/png": "[encoded data removed]"
          },
          "metadata": {
            "needs_background": "light"
          }
        }
      ],
      "source": [
        "# Calculate the percentage of each categories in the \"Style\" variable.\n",
        "round((inp0.Style.value_counts(normalize=True)*100),1).plot.barh()"
      ]
    },
    {
      "cell_type": "markdown",
      "metadata": {
        "id": "FDd9txt5s_Va"
      },
      "source": [
        "Similarly Club Neckline, SLeeve length categories into \"Others\" which have less than 50000 sales across all the seasons."
      ]
    },
    {
      "cell_type": "code",
      "execution_count": null,
      "metadata": {
        "colab": {
          "base_uri": "https://localhost:8080/",
          "height": 363
        },
        "id": "4qJhRM0js_Va",
        "outputId": "c978b09e-0a05-4519-bf56-536f13e33f23"
      },
      "outputs": [
        {
          "output_type": "execute_result",
          "data": {
            "text/plain": [
              "           NeckLine    Total\n",
              "0             Scoop   3135.0\n",
              "1        Sweetheart  14588.0\n",
              "2          backless   2888.0\n",
              "4           bowneck  21633.0\n",
              "5            halter   2355.0\n",
              "6   mandarin-collor    289.0\n",
              "8              open   7396.0\n",
              "9   peterpan-collor  18908.0\n",
              "12     sqare-collor  32395.0\n",
              "13       sweetheart   2728.0"
            ],
            "text/html": [
              "\n",
              "  <div id=\"df-bd91851b-f5e8-41a3-b962-32937c8d4941\">\n",
              "    <div class=\"colab-df-container\">\n",
              "      <div>\n",
              "<style scoped>\n",
              "    .dataframe tbody tr th:only-of-type {\n",
              "        vertical-align: middle;\n",
              "    }\n",
              "\n",
              "    .dataframe tbody tr th {\n",
              "        vertical-align: top;\n",
              "    }\n",
              "\n",
              "    .dataframe thead th {\n",
              "        text-align: right;\n",
              "    }\n",
              "</style>\n",
              "<table border=\"1\" class=\"dataframe\">\n",
              "  <thead>\n",
              "    <tr style=\"text-align: right;\">\n",
              "      <th></th>\n",
              "      <th>NeckLine</th>\n",
              "      <th>Total</th>\n",
              "    </tr>\n",
              "  </thead>\n",
              "  <tbody>\n",
              "    <tr>\n",
              "      <th>0</th>\n",
              "      <td>Scoop</td>\n",
              "      <td>3135.0</td>\n",
              "    </tr>\n",
              "    <tr>\n",
              "      <th>1</th>\n",
              "      <td>Sweetheart</td>\n",
              "      <td>14588.0</td>\n",
              "    </tr>\n",
              "    <tr>\n",
              "      <th>2</th>\n",
              "      <td>backless</td>\n",
              "      <td>2888.0</td>\n",
              "    </tr>\n",
              "    <tr>\n",
              "      <th>4</th>\n",
              "      <td>bowneck</td>\n",
              "      <td>21633.0</td>\n",
              "    </tr>\n",
              "    <tr>\n",
              "      <th>5</th>\n",
              "      <td>halter</td>\n",
              "      <td>2355.0</td>\n",
              "    </tr>\n",
              "    <tr>\n",
              "      <th>6</th>\n",
              "      <td>mandarin-collor</td>\n",
              "      <td>289.0</td>\n",
              "    </tr>\n",
              "    <tr>\n",
              "      <th>8</th>\n",
              "      <td>open</td>\n",
              "      <td>7396.0</td>\n",
              "    </tr>\n",
              "    <tr>\n",
              "      <th>9</th>\n",
              "      <td>peterpan-collor</td>\n",
              "      <td>18908.0</td>\n",
              "    </tr>\n",
              "    <tr>\n",
              "      <th>12</th>\n",
              "      <td>sqare-collor</td>\n",
              "      <td>32395.0</td>\n",
              "    </tr>\n",
              "    <tr>\n",
              "      <th>13</th>\n",
              "      <td>sweetheart</td>\n",
              "      <td>2728.0</td>\n",
              "    </tr>\n",
              "  </tbody>\n",
              "</table>\n",
              "</div>\n",
              "      <button class=\"colab-df-convert\" onclick=\"convertToInteractive('df-bd91851b-f5e8-41a3-b962-32937c8d4941')\"\n",
              "              title=\"Convert this dataframe to an interactive table.\"\n",
              "              style=\"display:none;\">\n",
              "        \n",
              "  <svg xmlns=\"http://www.w3.org/2000/svg\" height=\"24px\"viewBox=\"0 0 24 24\"\n",
              "       width=\"24px\">\n",
              "    <path d=\"M0 0h24v24H0V0z\" fill=\"none\"/>\n",
              "    <path d=\"M18.56 5.44l.94 2.06.94-2.06 2.06-.94-2.06-.94-.94-2.06-.94 2.06-2.06.94zm-11 1L8.5 8.5l.94-2.06 2.06-.94-2.06-.94L8.5 2.5l-.94 2.06-2.06.94zm10 10l.94 2.06.94-2.06 2.06-.94-2.06-.94-.94-2.06-.94 2.06-2.06.94z\"/><path d=\"M17.41 7.96l-1.37-1.37c-.4-.4-.92-.59-1.43-.59-.52 0-1.04.2-1.43.59L10.3 9.45l-7.72 7.72c-.78.78-.78 2.05 0 2.83L4 21.41c.39.39.9.59 1.41.59.51 0 1.02-.2 1.41-.59l7.78-7.78 2.81-2.81c.8-.78.8-2.07 0-2.86zM5.41 20L4 18.59l7.72-7.72 1.47 1.35L5.41 20z\"/>\n",
              "  </svg>\n",
              "      </button>\n",
              "      \n",
              "  <style>\n",
              "    .colab-df-container {\n",
              "      display:flex;\n",
              "      flex-wrap:wrap;\n",
              "      gap: 12px;\n",
              "    }\n",
              "\n",
              "    .colab-df-convert {\n",
              "      background-color: #E8F0FE;\n",
              "      border: none;\n",
              "      border-radius: 50%;\n",
              "      cursor: pointer;\n",
              "      display: none;\n",
              "      fill: #1967D2;\n",
              "      height: 32px;\n",
              "      padding: 0 0 0 0;\n",
              "      width: 32px;\n",
              "    }\n",
              "\n",
              "    .colab-df-convert:hover {\n",
              "      background-color: #E2EBFA;\n",
              "      box-shadow: 0px 1px 2px rgba(60, 64, 67, 0.3), 0px 1px 3px 1px rgba(60, 64, 67, 0.15);\n",
              "      fill: #174EA6;\n",
              "    }\n",
              "\n",
              "    [theme=dark] .colab-df-convert {\n",
              "      background-color: #3B4455;\n",
              "      fill: #D2E3FC;\n",
              "    }\n",
              "\n",
              "    [theme=dark] .colab-df-convert:hover {\n",
              "      background-color: #434B5C;\n",
              "      box-shadow: 0px 1px 3px 1px rgba(0, 0, 0, 0.15);\n",
              "      filter: drop-shadow(0px 1px 2px rgba(0, 0, 0, 0.3));\n",
              "      fill: #FFFFFF;\n",
              "    }\n",
              "  </style>\n",
              "\n",
              "      <script>\n",
              "        const buttonEl =\n",
              "          document.querySelector('#df-bd91851b-f5e8-41a3-b962-32937c8d4941 button.colab-df-convert');\n",
              "        buttonEl.style.display =\n",
              "          google.colab.kernel.accessAllowed ? 'block' : 'none';\n",
              "\n",
              "        async function convertToInteractive(key) {\n",
              "          const element = document.querySelector('#df-bd91851b-f5e8-41a3-b962-32937c8d4941');\n",
              "          const dataTable =\n",
              "            await google.colab.kernel.invokeFunction('convertToInteractive',\n",
              "                                                     [key], {});\n",
              "          if (!dataTable) return;\n",
              "\n",
              "          const docLinkHtml = 'Like what you see? Visit the ' +\n",
              "            '<a target=\"_blank\" href=https://colab.research.google.com/notebooks/data_table.ipynb>data table notebook</a>'\n",
              "            + ' to learn more about interactive tables.';\n",
              "          element.innerHTML = '';\n",
              "          dataTable['output_type'] = 'display_data';\n",
              "          await google.colab.output.renderOutput(dataTable, element);\n",
              "          const docLink = document.createElement('div');\n",
              "          docLink.innerHTML = docLinkHtml;\n",
              "          element.appendChild(docLink);\n",
              "        }\n",
              "      </script>\n",
              "    </div>\n",
              "  </div>\n",
              "  "
            ]
          },
          "metadata": {},
          "execution_count": 81
        }
      ],
      "source": [
        "# Group \"Neckline\" categories into \"Others\" which have less than 50000 sales across all the seasons.\n",
        "inp0['Total']= inp0['Summer'] + inp0['Autumn'] + inp0['Winter'] + inp0['Spring']\n",
        "#style_group = inp0['Total'].groupby(inp0['Style']).sum().reset_index()\n",
        "neck_group = inp0.groupby('NeckLine')['Total'].sum().reset_index()\n",
        "res = neck_group.loc[neck_group['Total']<50000]\n",
        "res"
      ]
    },
    {
      "cell_type": "code",
      "execution_count": null,
      "metadata": {
        "colab": {
          "base_uri": "https://localhost:8080/"
        },
        "id": "fDRiH3s-s_Va",
        "outputId": "50e2195d-137c-4604-a047-238d882524cf"
      },
      "outputs": [
        {
          "output_type": "execute_result",
          "data": {
            "text/plain": [
              "array(['o-neck', 'v-neck', 'boat-neck', 'others', 'ruffled',\n",
              "       'turndowncollor', 'slash-neck'], dtype=object)"
            ]
          },
          "metadata": {},
          "execution_count": 82
        }
      ],
      "source": [
        "# Group \"Sleeve length\" categories into \"Others\" which have less than 50000 sales across all the seasons.\n",
        "inp0.NeckLine.replace(['Scoop','Sweetheart','backless','bowneck','halter','mandarin-collor','open','peterpan-collor','sqare-collor','sweetheart'],'others',inplace=True)\n",
        "inp0.NeckLine.unique()"
      ]
    },
    {
      "cell_type": "markdown",
      "metadata": {
        "id": "Gh4wstpRs_Vb"
      },
      "source": [
        "Club material, fabrictype, patterntype and decoration categories into \"Others\" which have less than 25000 sales across all the seasons"
      ]
    },
    {
      "cell_type": "code",
      "execution_count": null,
      "metadata": {
        "colab": {
          "base_uri": "https://localhost:8080/",
          "height": 457
        },
        "id": "aNnjbmwOs_Vb",
        "outputId": "69cabd87-d901-4367-b27e-c40f505f95fd"
      },
      "outputs": [
        {
          "output_type": "execute_result",
          "data": {
            "text/plain": [
              "    Material    Total\n",
              "1    acrylic  12155.0\n",
              "2   cashmere   5667.0\n",
              "5       lace   6296.0\n",
              "6      linen  20149.0\n",
              "7      lycra  12555.0\n",
              "11     modal    522.0\n",
              "12     model    245.0\n",
              "14     other   5458.0\n",
              "17   shiffon   8295.0\n",
              "19      sill   2719.0\n",
              "20   spandex  22402.0\n",
              "21    viscos   4180.0\n",
              "22      wool    859.0"
            ],
            "text/html": [
              "\n",
              "  <div id=\"df-37665910-c3a1-4c30-b021-5b48fd600291\">\n",
              "    <div class=\"colab-df-container\">\n",
              "      <div>\n",
              "<style scoped>\n",
              "    .dataframe tbody tr th:only-of-type {\n",
              "        vertical-align: middle;\n",
              "    }\n",
              "\n",
              "    .dataframe tbody tr th {\n",
              "        vertical-align: top;\n",
              "    }\n",
              "\n",
              "    .dataframe thead th {\n",
              "        text-align: right;\n",
              "    }\n",
              "</style>\n",
              "<table border=\"1\" class=\"dataframe\">\n",
              "  <thead>\n",
              "    <tr style=\"text-align: right;\">\n",
              "      <th></th>\n",
              "      <th>Material</th>\n",
              "      <th>Total</th>\n",
              "    </tr>\n",
              "  </thead>\n",
              "  <tbody>\n",
              "    <tr>\n",
              "      <th>1</th>\n",
              "      <td>acrylic</td>\n",
              "      <td>12155.0</td>\n",
              "    </tr>\n",
              "    <tr>\n",
              "      <th>2</th>\n",
              "      <td>cashmere</td>\n",
              "      <td>5667.0</td>\n",
              "    </tr>\n",
              "    <tr>\n",
              "      <th>5</th>\n",
              "      <td>lace</td>\n",
              "      <td>6296.0</td>\n",
              "    </tr>\n",
              "    <tr>\n",
              "      <th>6</th>\n",
              "      <td>linen</td>\n",
              "      <td>20149.0</td>\n",
              "    </tr>\n",
              "    <tr>\n",
              "      <th>7</th>\n",
              "      <td>lycra</td>\n",
              "      <td>12555.0</td>\n",
              "    </tr>\n",
              "    <tr>\n",
              "      <th>11</th>\n",
              "      <td>modal</td>\n",
              "      <td>522.0</td>\n",
              "    </tr>\n",
              "    <tr>\n",
              "      <th>12</th>\n",
              "      <td>model</td>\n",
              "      <td>245.0</td>\n",
              "    </tr>\n",
              "    <tr>\n",
              "      <th>14</th>\n",
              "      <td>other</td>\n",
              "      <td>5458.0</td>\n",
              "    </tr>\n",
              "    <tr>\n",
              "      <th>17</th>\n",
              "      <td>shiffon</td>\n",
              "      <td>8295.0</td>\n",
              "    </tr>\n",
              "    <tr>\n",
              "      <th>19</th>\n",
              "      <td>sill</td>\n",
              "      <td>2719.0</td>\n",
              "    </tr>\n",
              "    <tr>\n",
              "      <th>20</th>\n",
              "      <td>spandex</td>\n",
              "      <td>22402.0</td>\n",
              "    </tr>\n",
              "    <tr>\n",
              "      <th>21</th>\n",
              "      <td>viscos</td>\n",
              "      <td>4180.0</td>\n",
              "    </tr>\n",
              "    <tr>\n",
              "      <th>22</th>\n",
              "      <td>wool</td>\n",
              "      <td>859.0</td>\n",
              "    </tr>\n",
              "  </tbody>\n",
              "</table>\n",
              "</div>\n",
              "      <button class=\"colab-df-convert\" onclick=\"convertToInteractive('df-37665910-c3a1-4c30-b021-5b48fd600291')\"\n",
              "              title=\"Convert this dataframe to an interactive table.\"\n",
              "              style=\"display:none;\">\n",
              "        \n",
              "  <svg xmlns=\"http://www.w3.org/2000/svg\" height=\"24px\"viewBox=\"0 0 24 24\"\n",
              "       width=\"24px\">\n",
              "    <path d=\"M0 0h24v24H0V0z\" fill=\"none\"/>\n",
              "    <path d=\"M18.56 5.44l.94 2.06.94-2.06 2.06-.94-2.06-.94-.94-2.06-.94 2.06-2.06.94zm-11 1L8.5 8.5l.94-2.06 2.06-.94-2.06-.94L8.5 2.5l-.94 2.06-2.06.94zm10 10l.94 2.06.94-2.06 2.06-.94-2.06-.94-.94-2.06-.94 2.06-2.06.94z\"/><path d=\"M17.41 7.96l-1.37-1.37c-.4-.4-.92-.59-1.43-.59-.52 0-1.04.2-1.43.59L10.3 9.45l-7.72 7.72c-.78.78-.78 2.05 0 2.83L4 21.41c.39.39.9.59 1.41.59.51 0 1.02-.2 1.41-.59l7.78-7.78 2.81-2.81c.8-.78.8-2.07 0-2.86zM5.41 20L4 18.59l7.72-7.72 1.47 1.35L5.41 20z\"/>\n",
              "  </svg>\n",
              "      </button>\n",
              "      \n",
              "  <style>\n",
              "    .colab-df-container {\n",
              "      display:flex;\n",
              "      flex-wrap:wrap;\n",
              "      gap: 12px;\n",
              "    }\n",
              "\n",
              "    .colab-df-convert {\n",
              "      background-color: #E8F0FE;\n",
              "      border: none;\n",
              "      border-radius: 50%;\n",
              "      cursor: pointer;\n",
              "      display: none;\n",
              "      fill: #1967D2;\n",
              "      height: 32px;\n",
              "      padding: 0 0 0 0;\n",
              "      width: 32px;\n",
              "    }\n",
              "\n",
              "    .colab-df-convert:hover {\n",
              "      background-color: #E2EBFA;\n",
              "      box-shadow: 0px 1px 2px rgba(60, 64, 67, 0.3), 0px 1px 3px 1px rgba(60, 64, 67, 0.15);\n",
              "      fill: #174EA6;\n",
              "    }\n",
              "\n",
              "    [theme=dark] .colab-df-convert {\n",
              "      background-color: #3B4455;\n",
              "      fill: #D2E3FC;\n",
              "    }\n",
              "\n",
              "    [theme=dark] .colab-df-convert:hover {\n",
              "      background-color: #434B5C;\n",
              "      box-shadow: 0px 1px 3px 1px rgba(0, 0, 0, 0.15);\n",
              "      filter: drop-shadow(0px 1px 2px rgba(0, 0, 0, 0.3));\n",
              "      fill: #FFFFFF;\n",
              "    }\n",
              "  </style>\n",
              "\n",
              "      <script>\n",
              "        const buttonEl =\n",
              "          document.querySelector('#df-37665910-c3a1-4c30-b021-5b48fd600291 button.colab-df-convert');\n",
              "        buttonEl.style.display =\n",
              "          google.colab.kernel.accessAllowed ? 'block' : 'none';\n",
              "\n",
              "        async function convertToInteractive(key) {\n",
              "          const element = document.querySelector('#df-37665910-c3a1-4c30-b021-5b48fd600291');\n",
              "          const dataTable =\n",
              "            await google.colab.kernel.invokeFunction('convertToInteractive',\n",
              "                                                     [key], {});\n",
              "          if (!dataTable) return;\n",
              "\n",
              "          const docLinkHtml = 'Like what you see? Visit the ' +\n",
              "            '<a target=\"_blank\" href=https://colab.research.google.com/notebooks/data_table.ipynb>data table notebook</a>'\n",
              "            + ' to learn more about interactive tables.';\n",
              "          element.innerHTML = '';\n",
              "          dataTable['output_type'] = 'display_data';\n",
              "          await google.colab.output.renderOutput(dataTable, element);\n",
              "          const docLink = document.createElement('div');\n",
              "          docLink.innerHTML = docLinkHtml;\n",
              "          element.appendChild(docLink);\n",
              "        }\n",
              "      </script>\n",
              "    </div>\n",
              "  </div>\n",
              "  "
            ]
          },
          "metadata": {},
          "execution_count": 84
        }
      ],
      "source": [
        "# Group \"material\" categories into \"Others\" which have less than 25000 sales across all the seasons.\n",
        "material_group = inp0.groupby('Material')['Total'].sum().reset_index()\n",
        "res = material_group.loc[material_group['Total']<25000]\n",
        "res"
      ]
    },
    {
      "cell_type": "code",
      "source": [
        "inp0.Material.replace(['acrylic','cashmere','lace','linen','lycra','modal','model','other','shiffon','sill','spandex','viscos','wool'],'others',inplace=True)\n",
        "inp0.Material.unique()"
      ],
      "metadata": {
        "colab": {
          "base_uri": "https://localhost:8080/"
        },
        "id": "WWHOO2__t2Wq",
        "outputId": "63f6ee66-d1e0-4488-d4ff-bdb7804035fe"
      },
      "execution_count": null,
      "outputs": [
        {
          "output_type": "execute_result",
          "data": {
            "text/plain": [
              "array(['Missing', 'microfiber', 'polyster', 'silk', 'chiffonfabric',\n",
              "       'cotton', 'nylon', 'others', 'milksilk', 'rayon', 'mix'],\n",
              "      dtype=object)"
            ]
          },
          "metadata": {},
          "execution_count": 85
        }
      ]
    },
    {
      "cell_type": "code",
      "execution_count": null,
      "metadata": {
        "colab": {
          "base_uri": "https://localhost:8080/",
          "height": 582
        },
        "id": "BHQfgml9s_Vb",
        "outputId": "850397ef-8698-41d4-cda8-64623176f0d1"
      },
      "outputs": [
        {
          "output_type": "execute_result",
          "data": {
            "text/plain": [
              "   FabricType    Total\n",
              "0    Corduroy  10866.0\n",
              "2       batik   4021.0\n",
              "5       dobby   2761.0\n",
              "6    flannael   6835.0\n",
              "7     flannel  14733.0\n",
              "9     knitted     14.0\n",
              "10   knitting     39.0\n",
              "11       lace   2082.0\n",
              "12    organza    762.0\n",
              "13      other   1251.0\n",
              "14     poplin   1443.0\n",
              "15      satin  11403.0\n",
              "16     sattin   9673.0\n",
              "18      terry    373.0\n",
              "19      tulle   2119.0\n",
              "20     wollen   2858.0\n",
              "21     woolen      0.0"
            ],
            "text/html": [
              "\n",
              "  <div id=\"df-e669a014-addb-48ce-9bec-0c907ca7a9d6\">\n",
              "    <div class=\"colab-df-container\">\n",
              "      <div>\n",
              "<style scoped>\n",
              "    .dataframe tbody tr th:only-of-type {\n",
              "        vertical-align: middle;\n",
              "    }\n",
              "\n",
              "    .dataframe tbody tr th {\n",
              "        vertical-align: top;\n",
              "    }\n",
              "\n",
              "    .dataframe thead th {\n",
              "        text-align: right;\n",
              "    }\n",
              "</style>\n",
              "<table border=\"1\" class=\"dataframe\">\n",
              "  <thead>\n",
              "    <tr style=\"text-align: right;\">\n",
              "      <th></th>\n",
              "      <th>FabricType</th>\n",
              "      <th>Total</th>\n",
              "    </tr>\n",
              "  </thead>\n",
              "  <tbody>\n",
              "    <tr>\n",
              "      <th>0</th>\n",
              "      <td>Corduroy</td>\n",
              "      <td>10866.0</td>\n",
              "    </tr>\n",
              "    <tr>\n",
              "      <th>2</th>\n",
              "      <td>batik</td>\n",
              "      <td>4021.0</td>\n",
              "    </tr>\n",
              "    <tr>\n",
              "      <th>5</th>\n",
              "      <td>dobby</td>\n",
              "      <td>2761.0</td>\n",
              "    </tr>\n",
              "    <tr>\n",
              "      <th>6</th>\n",
              "      <td>flannael</td>\n",
              "      <td>6835.0</td>\n",
              "    </tr>\n",
              "    <tr>\n",
              "      <th>7</th>\n",
              "      <td>flannel</td>\n",
              "      <td>14733.0</td>\n",
              "    </tr>\n",
              "    <tr>\n",
              "      <th>9</th>\n",
              "      <td>knitted</td>\n",
              "      <td>14.0</td>\n",
              "    </tr>\n",
              "    <tr>\n",
              "      <th>10</th>\n",
              "      <td>knitting</td>\n",
              "      <td>39.0</td>\n",
              "    </tr>\n",
              "    <tr>\n",
              "      <th>11</th>\n",
              "      <td>lace</td>\n",
              "      <td>2082.0</td>\n",
              "    </tr>\n",
              "    <tr>\n",
              "      <th>12</th>\n",
              "      <td>organza</td>\n",
              "      <td>762.0</td>\n",
              "    </tr>\n",
              "    <tr>\n",
              "      <th>13</th>\n",
              "      <td>other</td>\n",
              "      <td>1251.0</td>\n",
              "    </tr>\n",
              "    <tr>\n",
              "      <th>14</th>\n",
              "      <td>poplin</td>\n",
              "      <td>1443.0</td>\n",
              "    </tr>\n",
              "    <tr>\n",
              "      <th>15</th>\n",
              "      <td>satin</td>\n",
              "      <td>11403.0</td>\n",
              "    </tr>\n",
              "    <tr>\n",
              "      <th>16</th>\n",
              "      <td>sattin</td>\n",
              "      <td>9673.0</td>\n",
              "    </tr>\n",
              "    <tr>\n",
              "      <th>18</th>\n",
              "      <td>terry</td>\n",
              "      <td>373.0</td>\n",
              "    </tr>\n",
              "    <tr>\n",
              "      <th>19</th>\n",
              "      <td>tulle</td>\n",
              "      <td>2119.0</td>\n",
              "    </tr>\n",
              "    <tr>\n",
              "      <th>20</th>\n",
              "      <td>wollen</td>\n",
              "      <td>2858.0</td>\n",
              "    </tr>\n",
              "    <tr>\n",
              "      <th>21</th>\n",
              "      <td>woolen</td>\n",
              "      <td>0.0</td>\n",
              "    </tr>\n",
              "  </tbody>\n",
              "</table>\n",
              "</div>\n",
              "      <button class=\"colab-df-convert\" onclick=\"convertToInteractive('df-e669a014-addb-48ce-9bec-0c907ca7a9d6')\"\n",
              "              title=\"Convert this dataframe to an interactive table.\"\n",
              "              style=\"display:none;\">\n",
              "        \n",
              "  <svg xmlns=\"http://www.w3.org/2000/svg\" height=\"24px\"viewBox=\"0 0 24 24\"\n",
              "       width=\"24px\">\n",
              "    <path d=\"M0 0h24v24H0V0z\" fill=\"none\"/>\n",
              "    <path d=\"M18.56 5.44l.94 2.06.94-2.06 2.06-.94-2.06-.94-.94-2.06-.94 2.06-2.06.94zm-11 1L8.5 8.5l.94-2.06 2.06-.94-2.06-.94L8.5 2.5l-.94 2.06-2.06.94zm10 10l.94 2.06.94-2.06 2.06-.94-2.06-.94-.94-2.06-.94 2.06-2.06.94z\"/><path d=\"M17.41 7.96l-1.37-1.37c-.4-.4-.92-.59-1.43-.59-.52 0-1.04.2-1.43.59L10.3 9.45l-7.72 7.72c-.78.78-.78 2.05 0 2.83L4 21.41c.39.39.9.59 1.41.59.51 0 1.02-.2 1.41-.59l7.78-7.78 2.81-2.81c.8-.78.8-2.07 0-2.86zM5.41 20L4 18.59l7.72-7.72 1.47 1.35L5.41 20z\"/>\n",
              "  </svg>\n",
              "      </button>\n",
              "      \n",
              "  <style>\n",
              "    .colab-df-container {\n",
              "      display:flex;\n",
              "      flex-wrap:wrap;\n",
              "      gap: 12px;\n",
              "    }\n",
              "\n",
              "    .colab-df-convert {\n",
              "      background-color: #E8F0FE;\n",
              "      border: none;\n",
              "      border-radius: 50%;\n",
              "      cursor: pointer;\n",
              "      display: none;\n",
              "      fill: #1967D2;\n",
              "      height: 32px;\n",
              "      padding: 0 0 0 0;\n",
              "      width: 32px;\n",
              "    }\n",
              "\n",
              "    .colab-df-convert:hover {\n",
              "      background-color: #E2EBFA;\n",
              "      box-shadow: 0px 1px 2px rgba(60, 64, 67, 0.3), 0px 1px 3px 1px rgba(60, 64, 67, 0.15);\n",
              "      fill: #174EA6;\n",
              "    }\n",
              "\n",
              "    [theme=dark] .colab-df-convert {\n",
              "      background-color: #3B4455;\n",
              "      fill: #D2E3FC;\n",
              "    }\n",
              "\n",
              "    [theme=dark] .colab-df-convert:hover {\n",
              "      background-color: #434B5C;\n",
              "      box-shadow: 0px 1px 3px 1px rgba(0, 0, 0, 0.15);\n",
              "      filter: drop-shadow(0px 1px 2px rgba(0, 0, 0, 0.3));\n",
              "      fill: #FFFFFF;\n",
              "    }\n",
              "  </style>\n",
              "\n",
              "      <script>\n",
              "        const buttonEl =\n",
              "          document.querySelector('#df-e669a014-addb-48ce-9bec-0c907ca7a9d6 button.colab-df-convert');\n",
              "        buttonEl.style.display =\n",
              "          google.colab.kernel.accessAllowed ? 'block' : 'none';\n",
              "\n",
              "        async function convertToInteractive(key) {\n",
              "          const element = document.querySelector('#df-e669a014-addb-48ce-9bec-0c907ca7a9d6');\n",
              "          const dataTable =\n",
              "            await google.colab.kernel.invokeFunction('convertToInteractive',\n",
              "                                                     [key], {});\n",
              "          if (!dataTable) return;\n",
              "\n",
              "          const docLinkHtml = 'Like what you see? Visit the ' +\n",
              "            '<a target=\"_blank\" href=https://colab.research.google.com/notebooks/data_table.ipynb>data table notebook</a>'\n",
              "            + ' to learn more about interactive tables.';\n",
              "          element.innerHTML = '';\n",
              "          dataTable['output_type'] = 'display_data';\n",
              "          await google.colab.output.renderOutput(dataTable, element);\n",
              "          const docLink = document.createElement('div');\n",
              "          docLink.innerHTML = docLinkHtml;\n",
              "          element.appendChild(docLink);\n",
              "        }\n",
              "      </script>\n",
              "    </div>\n",
              "  </div>\n",
              "  "
            ]
          },
          "metadata": {},
          "execution_count": 86
        }
      ],
      "source": [
        "# Group \"fabric type\" categories into \"Others\" which have less than 25000 sales across all the seasons.\n",
        "fabric_group = inp0.groupby('FabricType')['Total'].sum().reset_index()\n",
        "res = fabric_group.loc[fabric_group['Total']<25000]\n",
        "res"
      ]
    },
    {
      "cell_type": "code",
      "source": [
        "res.FabricType"
      ],
      "metadata": {
        "id": "FcIyCZHOvYqr"
      },
      "execution_count": null,
      "outputs": []
    },
    {
      "cell_type": "code",
      "source": [
        "inp0['FabricType'].replace(['Corduroy','batik','dobby','flannael','flannel','knitted','knitting','lace','organza','other','poplin','satin','sattin','terry','tulle','wollen','woolen'], 'Others', inplace=True)\n",
        "inp0['FabricType'].unique()"
      ],
      "metadata": {
        "colab": {
          "base_uri": "https://localhost:8080/"
        },
        "id": "hr6sjTxvv6Ca",
        "outputId": "64f2a8ad-0f03-4a6c-de38-6413b268f0bc"
      },
      "execution_count": null,
      "outputs": [
        {
          "output_type": "execute_result",
          "data": {
            "text/plain": [
              "array(['chiffon', 'Missing', 'broadcloth', 'jersey', 'Others', 'worsted',\n",
              "       'shiffon'], dtype=object)"
            ]
          },
          "metadata": {},
          "execution_count": 94
        }
      ]
    },
    {
      "cell_type": "code",
      "execution_count": null,
      "metadata": {
        "colab": {
          "base_uri": "https://localhost:8080/",
          "height": 238
        },
        "id": "xYiMn3dNs_Vb",
        "outputId": "08bfef0e-9322-4765-97e5-ab99f35b72a0"
      },
      "outputs": [
        {
          "output_type": "execute_result",
          "data": {
            "text/plain": [
              "   Pattern Type    Total\n",
              "2     character   3738.0\n",
              "4        floral  10614.0\n",
              "6       leapord   3017.0\n",
              "8          none   5991.0\n",
              "10        plaid   1369.0\n",
              "13       splice   5112.0"
            ],
            "text/html": [
              "\n",
              "  <div id=\"df-ce1017a6-2451-464e-96a5-403ccab2e3c7\">\n",
              "    <div class=\"colab-df-container\">\n",
              "      <div>\n",
              "<style scoped>\n",
              "    .dataframe tbody tr th:only-of-type {\n",
              "        vertical-align: middle;\n",
              "    }\n",
              "\n",
              "    .dataframe tbody tr th {\n",
              "        vertical-align: top;\n",
              "    }\n",
              "\n",
              "    .dataframe thead th {\n",
              "        text-align: right;\n",
              "    }\n",
              "</style>\n",
              "<table border=\"1\" class=\"dataframe\">\n",
              "  <thead>\n",
              "    <tr style=\"text-align: right;\">\n",
              "      <th></th>\n",
              "      <th>Pattern Type</th>\n",
              "      <th>Total</th>\n",
              "    </tr>\n",
              "  </thead>\n",
              "  <tbody>\n",
              "    <tr>\n",
              "      <th>2</th>\n",
              "      <td>character</td>\n",
              "      <td>3738.0</td>\n",
              "    </tr>\n",
              "    <tr>\n",
              "      <th>4</th>\n",
              "      <td>floral</td>\n",
              "      <td>10614.0</td>\n",
              "    </tr>\n",
              "    <tr>\n",
              "      <th>6</th>\n",
              "      <td>leapord</td>\n",
              "      <td>3017.0</td>\n",
              "    </tr>\n",
              "    <tr>\n",
              "      <th>8</th>\n",
              "      <td>none</td>\n",
              "      <td>5991.0</td>\n",
              "    </tr>\n",
              "    <tr>\n",
              "      <th>10</th>\n",
              "      <td>plaid</td>\n",
              "      <td>1369.0</td>\n",
              "    </tr>\n",
              "    <tr>\n",
              "      <th>13</th>\n",
              "      <td>splice</td>\n",
              "      <td>5112.0</td>\n",
              "    </tr>\n",
              "  </tbody>\n",
              "</table>\n",
              "</div>\n",
              "      <button class=\"colab-df-convert\" onclick=\"convertToInteractive('df-ce1017a6-2451-464e-96a5-403ccab2e3c7')\"\n",
              "              title=\"Convert this dataframe to an interactive table.\"\n",
              "              style=\"display:none;\">\n",
              "        \n",
              "  <svg xmlns=\"http://www.w3.org/2000/svg\" height=\"24px\"viewBox=\"0 0 24 24\"\n",
              "       width=\"24px\">\n",
              "    <path d=\"M0 0h24v24H0V0z\" fill=\"none\"/>\n",
              "    <path d=\"M18.56 5.44l.94 2.06.94-2.06 2.06-.94-2.06-.94-.94-2.06-.94 2.06-2.06.94zm-11 1L8.5 8.5l.94-2.06 2.06-.94-2.06-.94L8.5 2.5l-.94 2.06-2.06.94zm10 10l.94 2.06.94-2.06 2.06-.94-2.06-.94-.94-2.06-.94 2.06-2.06.94z\"/><path d=\"M17.41 7.96l-1.37-1.37c-.4-.4-.92-.59-1.43-.59-.52 0-1.04.2-1.43.59L10.3 9.45l-7.72 7.72c-.78.78-.78 2.05 0 2.83L4 21.41c.39.39.9.59 1.41.59.51 0 1.02-.2 1.41-.59l7.78-7.78 2.81-2.81c.8-.78.8-2.07 0-2.86zM5.41 20L4 18.59l7.72-7.72 1.47 1.35L5.41 20z\"/>\n",
              "  </svg>\n",
              "      </button>\n",
              "      \n",
              "  <style>\n",
              "    .colab-df-container {\n",
              "      display:flex;\n",
              "      flex-wrap:wrap;\n",
              "      gap: 12px;\n",
              "    }\n",
              "\n",
              "    .colab-df-convert {\n",
              "      background-color: #E8F0FE;\n",
              "      border: none;\n",
              "      border-radius: 50%;\n",
              "      cursor: pointer;\n",
              "      display: none;\n",
              "      fill: #1967D2;\n",
              "      height: 32px;\n",
              "      padding: 0 0 0 0;\n",
              "      width: 32px;\n",
              "    }\n",
              "\n",
              "    .colab-df-convert:hover {\n",
              "      background-color: #E2EBFA;\n",
              "      box-shadow: 0px 1px 2px rgba(60, 64, 67, 0.3), 0px 1px 3px 1px rgba(60, 64, 67, 0.15);\n",
              "      fill: #174EA6;\n",
              "    }\n",
              "\n",
              "    [theme=dark] .colab-df-convert {\n",
              "      background-color: #3B4455;\n",
              "      fill: #D2E3FC;\n",
              "    }\n",
              "\n",
              "    [theme=dark] .colab-df-convert:hover {\n",
              "      background-color: #434B5C;\n",
              "      box-shadow: 0px 1px 3px 1px rgba(0, 0, 0, 0.15);\n",
              "      filter: drop-shadow(0px 1px 2px rgba(0, 0, 0, 0.3));\n",
              "      fill: #FFFFFF;\n",
              "    }\n",
              "  </style>\n",
              "\n",
              "      <script>\n",
              "        const buttonEl =\n",
              "          document.querySelector('#df-ce1017a6-2451-464e-96a5-403ccab2e3c7 button.colab-df-convert');\n",
              "        buttonEl.style.display =\n",
              "          google.colab.kernel.accessAllowed ? 'block' : 'none';\n",
              "\n",
              "        async function convertToInteractive(key) {\n",
              "          const element = document.querySelector('#df-ce1017a6-2451-464e-96a5-403ccab2e3c7');\n",
              "          const dataTable =\n",
              "            await google.colab.kernel.invokeFunction('convertToInteractive',\n",
              "                                                     [key], {});\n",
              "          if (!dataTable) return;\n",
              "\n",
              "          const docLinkHtml = 'Like what you see? Visit the ' +\n",
              "            '<a target=\"_blank\" href=https://colab.research.google.com/notebooks/data_table.ipynb>data table notebook</a>'\n",
              "            + ' to learn more about interactive tables.';\n",
              "          element.innerHTML = '';\n",
              "          dataTable['output_type'] = 'display_data';\n",
              "          await google.colab.output.renderOutput(dataTable, element);\n",
              "          const docLink = document.createElement('div');\n",
              "          docLink.innerHTML = docLinkHtml;\n",
              "          element.appendChild(docLink);\n",
              "        }\n",
              "      </script>\n",
              "    </div>\n",
              "  </div>\n",
              "  "
            ]
          },
          "metadata": {},
          "execution_count": 97
        }
      ],
      "source": [
        "# Group \"patern type\" categories into \"Others\" which have less than 25000 sales across all the seasons.\n",
        "pat_group = inp0['Total'].groupby(inp0['Pattern Type']).sum().reset_index()\n",
        "res = pat_group.loc[pat_group['Total']<25000]\n",
        "res"
      ]
    },
    {
      "cell_type": "code",
      "source": [
        "inp0['Pattern Type'].replace(['character','floral','leapord','none','plaid','splice'], 'Others', inplace=True)\n",
        "inp0['Pattern Type'].unique()"
      ],
      "metadata": {
        "colab": {
          "base_uri": "https://localhost:8080/"
        },
        "id": "dh9I-bFmyfzE",
        "outputId": "9aa82836-0332-497f-f674-73a1cb053788"
      },
      "execution_count": null,
      "outputs": [
        {
          "output_type": "execute_result",
          "data": {
            "text/plain": [
              "array(['animal', 'print', 'dot', 'solid', 'Missing', 'patchwork',\n",
              "       'striped', 'geometric', 'Others', 'leopard'], dtype=object)"
            ]
          },
          "metadata": {},
          "execution_count": 99
        }
      ]
    },
    {
      "cell_type": "code",
      "execution_count": null,
      "metadata": {
        "colab": {
          "base_uri": "https://localhost:8080/",
          "height": 488
        },
        "id": "j8jml4mCs_Vb",
        "outputId": "d4733ee4-76d9-4914-f23b-d7386a9545d5"
      },
      "outputs": [
        {
          "output_type": "execute_result",
          "data": {
            "text/plain": [
              "   Decoration    Total\n",
              "1      Tiered  22147.0\n",
              "5      button  22203.0\n",
              "6   cascading    210.0\n",
              "7     crystal   6450.0\n",
              "8      draped   7099.0\n",
              "10   feathers     64.0\n",
              "11    flowers   6676.0\n",
              "14       none   3551.0\n",
              "15     pearls     41.0\n",
              "16      plain   2740.0\n",
              "17    pockets  21532.0\n",
              "18      rivet  17801.0\n",
              "19     ruched   7940.0\n",
              "23     tassel    939.0"
            ],
            "text/html": [
              "\n",
              "  <div id=\"df-25ea0709-1b21-4e31-85e2-0d116d78e0c3\">\n",
              "    <div class=\"colab-df-container\">\n",
              "      <div>\n",
              "<style scoped>\n",
              "    .dataframe tbody tr th:only-of-type {\n",
              "        vertical-align: middle;\n",
              "    }\n",
              "\n",
              "    .dataframe tbody tr th {\n",
              "        vertical-align: top;\n",
              "    }\n",
              "\n",
              "    .dataframe thead th {\n",
              "        text-align: right;\n",
              "    }\n",
              "</style>\n",
              "<table border=\"1\" class=\"dataframe\">\n",
              "  <thead>\n",
              "    <tr style=\"text-align: right;\">\n",
              "      <th></th>\n",
              "      <th>Decoration</th>\n",
              "      <th>Total</th>\n",
              "    </tr>\n",
              "  </thead>\n",
              "  <tbody>\n",
              "    <tr>\n",
              "      <th>1</th>\n",
              "      <td>Tiered</td>\n",
              "      <td>22147.0</td>\n",
              "    </tr>\n",
              "    <tr>\n",
              "      <th>5</th>\n",
              "      <td>button</td>\n",
              "      <td>22203.0</td>\n",
              "    </tr>\n",
              "    <tr>\n",
              "      <th>6</th>\n",
              "      <td>cascading</td>\n",
              "      <td>210.0</td>\n",
              "    </tr>\n",
              "    <tr>\n",
              "      <th>7</th>\n",
              "      <td>crystal</td>\n",
              "      <td>6450.0</td>\n",
              "    </tr>\n",
              "    <tr>\n",
              "      <th>8</th>\n",
              "      <td>draped</td>\n",
              "      <td>7099.0</td>\n",
              "    </tr>\n",
              "    <tr>\n",
              "      <th>10</th>\n",
              "      <td>feathers</td>\n",
              "      <td>64.0</td>\n",
              "    </tr>\n",
              "    <tr>\n",
              "      <th>11</th>\n",
              "      <td>flowers</td>\n",
              "      <td>6676.0</td>\n",
              "    </tr>\n",
              "    <tr>\n",
              "      <th>14</th>\n",
              "      <td>none</td>\n",
              "      <td>3551.0</td>\n",
              "    </tr>\n",
              "    <tr>\n",
              "      <th>15</th>\n",
              "      <td>pearls</td>\n",
              "      <td>41.0</td>\n",
              "    </tr>\n",
              "    <tr>\n",
              "      <th>16</th>\n",
              "      <td>plain</td>\n",
              "      <td>2740.0</td>\n",
              "    </tr>\n",
              "    <tr>\n",
              "      <th>17</th>\n",
              "      <td>pockets</td>\n",
              "      <td>21532.0</td>\n",
              "    </tr>\n",
              "    <tr>\n",
              "      <th>18</th>\n",
              "      <td>rivet</td>\n",
              "      <td>17801.0</td>\n",
              "    </tr>\n",
              "    <tr>\n",
              "      <th>19</th>\n",
              "      <td>ruched</td>\n",
              "      <td>7940.0</td>\n",
              "    </tr>\n",
              "    <tr>\n",
              "      <th>23</th>\n",
              "      <td>tassel</td>\n",
              "      <td>939.0</td>\n",
              "    </tr>\n",
              "  </tbody>\n",
              "</table>\n",
              "</div>\n",
              "      <button class=\"colab-df-convert\" onclick=\"convertToInteractive('df-25ea0709-1b21-4e31-85e2-0d116d78e0c3')\"\n",
              "              title=\"Convert this dataframe to an interactive table.\"\n",
              "              style=\"display:none;\">\n",
              "        \n",
              "  <svg xmlns=\"http://www.w3.org/2000/svg\" height=\"24px\"viewBox=\"0 0 24 24\"\n",
              "       width=\"24px\">\n",
              "    <path d=\"M0 0h24v24H0V0z\" fill=\"none\"/>\n",
              "    <path d=\"M18.56 5.44l.94 2.06.94-2.06 2.06-.94-2.06-.94-.94-2.06-.94 2.06-2.06.94zm-11 1L8.5 8.5l.94-2.06 2.06-.94-2.06-.94L8.5 2.5l-.94 2.06-2.06.94zm10 10l.94 2.06.94-2.06 2.06-.94-2.06-.94-.94-2.06-.94 2.06-2.06.94z\"/><path d=\"M17.41 7.96l-1.37-1.37c-.4-.4-.92-.59-1.43-.59-.52 0-1.04.2-1.43.59L10.3 9.45l-7.72 7.72c-.78.78-.78 2.05 0 2.83L4 21.41c.39.39.9.59 1.41.59.51 0 1.02-.2 1.41-.59l7.78-7.78 2.81-2.81c.8-.78.8-2.07 0-2.86zM5.41 20L4 18.59l7.72-7.72 1.47 1.35L5.41 20z\"/>\n",
              "  </svg>\n",
              "      </button>\n",
              "      \n",
              "  <style>\n",
              "    .colab-df-container {\n",
              "      display:flex;\n",
              "      flex-wrap:wrap;\n",
              "      gap: 12px;\n",
              "    }\n",
              "\n",
              "    .colab-df-convert {\n",
              "      background-color: #E8F0FE;\n",
              "      border: none;\n",
              "      border-radius: 50%;\n",
              "      cursor: pointer;\n",
              "      display: none;\n",
              "      fill: #1967D2;\n",
              "      height: 32px;\n",
              "      padding: 0 0 0 0;\n",
              "      width: 32px;\n",
              "    }\n",
              "\n",
              "    .colab-df-convert:hover {\n",
              "      background-color: #E2EBFA;\n",
              "      box-shadow: 0px 1px 2px rgba(60, 64, 67, 0.3), 0px 1px 3px 1px rgba(60, 64, 67, 0.15);\n",
              "      fill: #174EA6;\n",
              "    }\n",
              "\n",
              "    [theme=dark] .colab-df-convert {\n",
              "      background-color: #3B4455;\n",
              "      fill: #D2E3FC;\n",
              "    }\n",
              "\n",
              "    [theme=dark] .colab-df-convert:hover {\n",
              "      background-color: #434B5C;\n",
              "      box-shadow: 0px 1px 3px 1px rgba(0, 0, 0, 0.15);\n",
              "      filter: drop-shadow(0px 1px 2px rgba(0, 0, 0, 0.3));\n",
              "      fill: #FFFFFF;\n",
              "    }\n",
              "  </style>\n",
              "\n",
              "      <script>\n",
              "        const buttonEl =\n",
              "          document.querySelector('#df-25ea0709-1b21-4e31-85e2-0d116d78e0c3 button.colab-df-convert');\n",
              "        buttonEl.style.display =\n",
              "          google.colab.kernel.accessAllowed ? 'block' : 'none';\n",
              "\n",
              "        async function convertToInteractive(key) {\n",
              "          const element = document.querySelector('#df-25ea0709-1b21-4e31-85e2-0d116d78e0c3');\n",
              "          const dataTable =\n",
              "            await google.colab.kernel.invokeFunction('convertToInteractive',\n",
              "                                                     [key], {});\n",
              "          if (!dataTable) return;\n",
              "\n",
              "          const docLinkHtml = 'Like what you see? Visit the ' +\n",
              "            '<a target=\"_blank\" href=https://colab.research.google.com/notebooks/data_table.ipynb>data table notebook</a>'\n",
              "            + ' to learn more about interactive tables.';\n",
              "          element.innerHTML = '';\n",
              "          dataTable['output_type'] = 'display_data';\n",
              "          await google.colab.output.renderOutput(dataTable, element);\n",
              "          const docLink = document.createElement('div');\n",
              "          docLink.innerHTML = docLinkHtml;\n",
              "          element.appendChild(docLink);\n",
              "        }\n",
              "      </script>\n",
              "    </div>\n",
              "  </div>\n",
              "  "
            ]
          },
          "metadata": {},
          "execution_count": 100
        }
      ],
      "source": [
        "# Group \"decoration\" categories into \"Others\" which have less than 25000 sales across all the seasons.\n",
        "dec_group = inp0['Total'].groupby(inp0['Decoration']).sum().reset_index()\n",
        "res = dec_group.loc[dec_group['Total']<25000]\n",
        "res"
      ]
    },
    {
      "cell_type": "code",
      "source": [
        "inp0['Decoration'].replace(['Tiered','button','cascading','crystal','draped','feathers','flowers','none','pearls','plain','pockets','rivet','ruched','tassel'], 'Others', inplace=True)\n",
        "inp0['Decoration'].unique()"
      ],
      "metadata": {
        "colab": {
          "base_uri": "https://localhost:8080/"
        },
        "id": "NOg8SozE1m94",
        "outputId": "d1e51a1b-25b0-431e-ac65-b2d5c557a618"
      },
      "execution_count": null,
      "outputs": [
        {
          "output_type": "execute_result",
          "data": {
            "text/plain": [
              "array(['ruffles', 'Missing', 'embroidary', 'bow', 'beading', 'lace',\n",
              "       'sashes', 'hollowout', 'Others', 'sequined', 'applique'],\n",
              "      dtype=object)"
            ]
          },
          "metadata": {},
          "execution_count": 102
        }
      ]
    },
    {
      "cell_type": "markdown",
      "metadata": {
        "id": "fjdbPQEYs_Vc"
      },
      "source": [
        "### Caregorical Ordered Univariate Analysis"
      ]
    },
    {
      "cell_type": "markdown",
      "metadata": {
        "id": "sGDqP17Ds_Vc"
      },
      "source": [
        "Which of the following is an unordered variable in “Attribute DataSet”.\n",
        "- Style\n",
        "- Price\n",
        "- Season\n",
        "- Size\n"
      ]
    },
    {
      "cell_type": "code",
      "source": [
        "##Style"
      ],
      "metadata": {
        "id": "4YL6KdfP2NL1"
      },
      "execution_count": null,
      "outputs": []
    },
    {
      "cell_type": "markdown",
      "metadata": {
        "id": "4cUvUH4-s_Vc"
      },
      "source": [
        "### Numerical variable Univariate analysis:"
      ]
    },
    {
      "cell_type": "markdown",
      "metadata": {
        "id": "GfxPoomPs_Vc"
      },
      "source": [
        "What is the approximate difference between the maximum value and 75th percentile in “Autumn” column.\n",
        "- Approx 54000\n",
        "- Approx 55000\n",
        "- Approx 52000\n",
        "- Approx 50000\n",
        "\n"
      ]
    },
    {
      "cell_type": "code",
      "source": [
        "inp0.head()"
      ],
      "metadata": {
        "colab": {
          "base_uri": "https://localhost:8080/",
          "height": 288
        },
        "id": "kGoN4rZe2VVd",
        "outputId": "47d1b7f9-9106-4eb9-b52e-f55afa1c45e3"
      },
      "execution_count": null,
      "outputs": [
        {
          "output_type": "execute_result",
          "data": {
            "text/plain": [
              "     Dress_ID    Style    Price  Rating    Size  Season NeckLine  \\\n",
              "0  1006032852     Sexy      Low     4.6  Medium  Summer   o-neck   \n",
              "1  1212192089   Casual      Low     0.0   Large  Summer   o-neck   \n",
              "2  1190380701  vintage     High     0.0   Large  Autumn   o-neck   \n",
              "3   966005983    Brief  Average     4.6   Large  Spring   o-neck   \n",
              "4   876339541     cute      Low     4.5  Medium  Summer   o-neck   \n",
              "\n",
              "   SleeveLength       Material FabricType  Decoration Pattern Type  \\\n",
              "0   sleeve less        Missing    chiffon     ruffles       animal   \n",
              "1         Petal     microfiber    Missing     ruffles       animal   \n",
              "2  full sleeves       polyster    Missing     Missing        print   \n",
              "3  full sleeves           silk    chiffon  embroidary        print   \n",
              "4     butterfly  chiffonfabric    chiffon         bow          dot   \n",
              "\n",
              "   Recommendation  Spring   Summer  Winter   Autumn    Total  \n",
              "0               1  2660.0  13899.0  9658.0  26857.0  53074.0  \n",
              "1               0   750.0   6216.0  6405.0  17311.0  30682.0  \n",
              "2               0     7.0     40.0    28.0     82.0    157.0  \n",
              "3               1  1455.0   7213.0  5012.0  14411.0  28091.0  \n",
              "4               0  1396.0   7706.0  5678.0  14676.0  29456.0  "
            ],
            "text/html": [
              "\n",
              "  <div id=\"df-efe3a7a1-9140-4495-b6ea-0942d82ce246\">\n",
              "    <div class=\"colab-df-container\">\n",
              "      <div>\n",
              "<style scoped>\n",
              "    .dataframe tbody tr th:only-of-type {\n",
              "        vertical-align: middle;\n",
              "    }\n",
              "\n",
              "    .dataframe tbody tr th {\n",
              "        vertical-align: top;\n",
              "    }\n",
              "\n",
              "    .dataframe thead th {\n",
              "        text-align: right;\n",
              "    }\n",
              "</style>\n",
              "<table border=\"1\" class=\"dataframe\">\n",
              "  <thead>\n",
              "    <tr style=\"text-align: right;\">\n",
              "      <th></th>\n",
              "      <th>Dress_ID</th>\n",
              "      <th>Style</th>\n",
              "      <th>Price</th>\n",
              "      <th>Rating</th>\n",
              "      <th>Size</th>\n",
              "      <th>Season</th>\n",
              "      <th>NeckLine</th>\n",
              "      <th>SleeveLength</th>\n",
              "      <th>Material</th>\n",
              "      <th>FabricType</th>\n",
              "      <th>Decoration</th>\n",
              "      <th>Pattern Type</th>\n",
              "      <th>Recommendation</th>\n",
              "      <th>Spring</th>\n",
              "      <th>Summer</th>\n",
              "      <th>Winter</th>\n",
              "      <th>Autumn</th>\n",
              "      <th>Total</th>\n",
              "    </tr>\n",
              "  </thead>\n",
              "  <tbody>\n",
              "    <tr>\n",
              "      <th>0</th>\n",
              "      <td>1006032852</td>\n",
              "      <td>Sexy</td>\n",
              "      <td>Low</td>\n",
              "      <td>4.6</td>\n",
              "      <td>Medium</td>\n",
              "      <td>Summer</td>\n",
              "      <td>o-neck</td>\n",
              "      <td>sleeve less</td>\n",
              "      <td>Missing</td>\n",
              "      <td>chiffon</td>\n",
              "      <td>ruffles</td>\n",
              "      <td>animal</td>\n",
              "      <td>1</td>\n",
              "      <td>2660.0</td>\n",
              "      <td>13899.0</td>\n",
              "      <td>9658.0</td>\n",
              "      <td>26857.0</td>\n",
              "      <td>53074.0</td>\n",
              "    </tr>\n",
              "    <tr>\n",
              "      <th>1</th>\n",
              "      <td>1212192089</td>\n",
              "      <td>Casual</td>\n",
              "      <td>Low</td>\n",
              "      <td>0.0</td>\n",
              "      <td>Large</td>\n",
              "      <td>Summer</td>\n",
              "      <td>o-neck</td>\n",
              "      <td>Petal</td>\n",
              "      <td>microfiber</td>\n",
              "      <td>Missing</td>\n",
              "      <td>ruffles</td>\n",
              "      <td>animal</td>\n",
              "      <td>0</td>\n",
              "      <td>750.0</td>\n",
              "      <td>6216.0</td>\n",
              "      <td>6405.0</td>\n",
              "      <td>17311.0</td>\n",
              "      <td>30682.0</td>\n",
              "    </tr>\n",
              "    <tr>\n",
              "      <th>2</th>\n",
              "      <td>1190380701</td>\n",
              "      <td>vintage</td>\n",
              "      <td>High</td>\n",
              "      <td>0.0</td>\n",
              "      <td>Large</td>\n",
              "      <td>Autumn</td>\n",
              "      <td>o-neck</td>\n",
              "      <td>full sleeves</td>\n",
              "      <td>polyster</td>\n",
              "      <td>Missing</td>\n",
              "      <td>Missing</td>\n",
              "      <td>print</td>\n",
              "      <td>0</td>\n",
              "      <td>7.0</td>\n",
              "      <td>40.0</td>\n",
              "      <td>28.0</td>\n",
              "      <td>82.0</td>\n",
              "      <td>157.0</td>\n",
              "    </tr>\n",
              "    <tr>\n",
              "      <th>3</th>\n",
              "      <td>966005983</td>\n",
              "      <td>Brief</td>\n",
              "      <td>Average</td>\n",
              "      <td>4.6</td>\n",
              "      <td>Large</td>\n",
              "      <td>Spring</td>\n",
              "      <td>o-neck</td>\n",
              "      <td>full sleeves</td>\n",
              "      <td>silk</td>\n",
              "      <td>chiffon</td>\n",
              "      <td>embroidary</td>\n",
              "      <td>print</td>\n",
              "      <td>1</td>\n",
              "      <td>1455.0</td>\n",
              "      <td>7213.0</td>\n",
              "      <td>5012.0</td>\n",
              "      <td>14411.0</td>\n",
              "      <td>28091.0</td>\n",
              "    </tr>\n",
              "    <tr>\n",
              "      <th>4</th>\n",
              "      <td>876339541</td>\n",
              "      <td>cute</td>\n",
              "      <td>Low</td>\n",
              "      <td>4.5</td>\n",
              "      <td>Medium</td>\n",
              "      <td>Summer</td>\n",
              "      <td>o-neck</td>\n",
              "      <td>butterfly</td>\n",
              "      <td>chiffonfabric</td>\n",
              "      <td>chiffon</td>\n",
              "      <td>bow</td>\n",
              "      <td>dot</td>\n",
              "      <td>0</td>\n",
              "      <td>1396.0</td>\n",
              "      <td>7706.0</td>\n",
              "      <td>5678.0</td>\n",
              "      <td>14676.0</td>\n",
              "      <td>29456.0</td>\n",
              "    </tr>\n",
              "  </tbody>\n",
              "</table>\n",
              "</div>\n",
              "      <button class=\"colab-df-convert\" onclick=\"convertToInteractive('df-efe3a7a1-9140-4495-b6ea-0942d82ce246')\"\n",
              "              title=\"Convert this dataframe to an interactive table.\"\n",
              "              style=\"display:none;\">\n",
              "        \n",
              "  <svg xmlns=\"http://www.w3.org/2000/svg\" height=\"24px\"viewBox=\"0 0 24 24\"\n",
              "       width=\"24px\">\n",
              "    <path d=\"M0 0h24v24H0V0z\" fill=\"none\"/>\n",
              "    <path d=\"M18.56 5.44l.94 2.06.94-2.06 2.06-.94-2.06-.94-.94-2.06-.94 2.06-2.06.94zm-11 1L8.5 8.5l.94-2.06 2.06-.94-2.06-.94L8.5 2.5l-.94 2.06-2.06.94zm10 10l.94 2.06.94-2.06 2.06-.94-2.06-.94-.94-2.06-.94 2.06-2.06.94z\"/><path d=\"M17.41 7.96l-1.37-1.37c-.4-.4-.92-.59-1.43-.59-.52 0-1.04.2-1.43.59L10.3 9.45l-7.72 7.72c-.78.78-.78 2.05 0 2.83L4 21.41c.39.39.9.59 1.41.59.51 0 1.02-.2 1.41-.59l7.78-7.78 2.81-2.81c.8-.78.8-2.07 0-2.86zM5.41 20L4 18.59l7.72-7.72 1.47 1.35L5.41 20z\"/>\n",
              "  </svg>\n",
              "      </button>\n",
              "      \n",
              "  <style>\n",
              "    .colab-df-container {\n",
              "      display:flex;\n",
              "      flex-wrap:wrap;\n",
              "      gap: 12px;\n",
              "    }\n",
              "\n",
              "    .colab-df-convert {\n",
              "      background-color: #E8F0FE;\n",
              "      border: none;\n",
              "      border-radius: 50%;\n",
              "      cursor: pointer;\n",
              "      display: none;\n",
              "      fill: #1967D2;\n",
              "      height: 32px;\n",
              "      padding: 0 0 0 0;\n",
              "      width: 32px;\n",
              "    }\n",
              "\n",
              "    .colab-df-convert:hover {\n",
              "      background-color: #E2EBFA;\n",
              "      box-shadow: 0px 1px 2px rgba(60, 64, 67, 0.3), 0px 1px 3px 1px rgba(60, 64, 67, 0.15);\n",
              "      fill: #174EA6;\n",
              "    }\n",
              "\n",
              "    [theme=dark] .colab-df-convert {\n",
              "      background-color: #3B4455;\n",
              "      fill: #D2E3FC;\n",
              "    }\n",
              "\n",
              "    [theme=dark] .colab-df-convert:hover {\n",
              "      background-color: #434B5C;\n",
              "      box-shadow: 0px 1px 3px 1px rgba(0, 0, 0, 0.15);\n",
              "      filter: drop-shadow(0px 1px 2px rgba(0, 0, 0, 0.3));\n",
              "      fill: #FFFFFF;\n",
              "    }\n",
              "  </style>\n",
              "\n",
              "      <script>\n",
              "        const buttonEl =\n",
              "          document.querySelector('#df-efe3a7a1-9140-4495-b6ea-0942d82ce246 button.colab-df-convert');\n",
              "        buttonEl.style.display =\n",
              "          google.colab.kernel.accessAllowed ? 'block' : 'none';\n",
              "\n",
              "        async function convertToInteractive(key) {\n",
              "          const element = document.querySelector('#df-efe3a7a1-9140-4495-b6ea-0942d82ce246');\n",
              "          const dataTable =\n",
              "            await google.colab.kernel.invokeFunction('convertToInteractive',\n",
              "                                                     [key], {});\n",
              "          if (!dataTable) return;\n",
              "\n",
              "          const docLinkHtml = 'Like what you see? Visit the ' +\n",
              "            '<a target=\"_blank\" href=https://colab.research.google.com/notebooks/data_table.ipynb>data table notebook</a>'\n",
              "            + ' to learn more about interactive tables.';\n",
              "          element.innerHTML = '';\n",
              "          dataTable['output_type'] = 'display_data';\n",
              "          await google.colab.output.renderOutput(dataTable, element);\n",
              "          const docLink = document.createElement('div');\n",
              "          docLink.innerHTML = docLinkHtml;\n",
              "          element.appendChild(docLink);\n",
              "        }\n",
              "      </script>\n",
              "    </div>\n",
              "  </div>\n",
              "  "
            ]
          },
          "metadata": {},
          "execution_count": 104
        }
      ]
    },
    {
      "cell_type": "code",
      "execution_count": null,
      "metadata": {
        "colab": {
          "base_uri": "https://localhost:8080/"
        },
        "id": "n2Pa_uA4s_Vc",
        "outputId": "2a78ba22-5ea3-4db0-f381-5c3bb6daa3eb"
      },
      "outputs": [
        {
          "output_type": "execute_result",
          "data": {
            "text/plain": [
              "count      471.000000\n",
              "mean      2852.849257\n",
              "std       5037.033044\n",
              "min          1.000000\n",
              "25%        410.500000\n",
              "50%       1334.000000\n",
              "75%       3126.000000\n",
              "max      55532.000000\n",
              "Name: Autumn, dtype: float64"
            ]
          },
          "metadata": {},
          "execution_count": 105
        }
      ],
      "source": [
        "# Describe the numerical variale: \"Autumn\".\n",
        "inp0.Autumn.describe()"
      ]
    },
    {
      "cell_type": "code",
      "source": [
        "x = inp0['Autumn'].max() - inp0['Autumn'].quantile(0.75)\n",
        "x"
      ],
      "metadata": {
        "colab": {
          "base_uri": "https://localhost:8080/"
        },
        "id": "Xqx2mooe2-tG",
        "outputId": "e33fe742-d9a8-44da-d50b-2f77abe4b0e7"
      },
      "execution_count": null,
      "outputs": [
        {
          "output_type": "execute_result",
          "data": {
            "text/plain": [
              "52406.0"
            ]
          },
          "metadata": {},
          "execution_count": 107
        }
      ]
    },
    {
      "cell_type": "code",
      "execution_count": null,
      "metadata": {
        "colab": {
          "base_uri": "https://localhost:8080/",
          "height": 265
        },
        "id": "ehGzBi5rs_Vd",
        "outputId": "e417fa53-9317-4f5e-f4b1-2d22385de4ff"
      },
      "outputs": [
        {
          "output_type": "display_data",
          "data": {
            "text/plain": [
              "<Figure size 432x288 with 1 Axes>"
            ],
            "image/png": "[encoded data removed]"
          },
          "metadata": {
            "needs_background": "light"
          }
        }
      ],
      "source": [
        "# plot the boxplot of \"Autumn\" column.\n",
        "inp0.Autumn.plot.box()\n",
        "plt.show()"
      ]
    },
    {
      "cell_type": "markdown",
      "metadata": {
        "id": "LVRbe_o7s_Vd"
      },
      "source": [
        "Which of the following season has the highest difference between the maximum value and 99th quantile of sales?\n",
        "- Winter\n",
        "- Summer\n",
        "- Spring\n",
        "- Autumn\n"
      ]
    },
    {
      "cell_type": "code",
      "execution_count": null,
      "metadata": {
        "colab": {
          "base_uri": "https://localhost:8080/"
        },
        "id": "GF_qtq7Ws_Vd",
        "outputId": "2c71e92c-14c0-4342-e427-6d6e159a8bb1"
      },
      "outputs": [
        {
          "output_type": "execute_result",
          "data": {
            "text/plain": [
              "0.99     8975.69\n",
              "1.00    20388.00\n",
              "Name: Winter, dtype: float64"
            ]
          },
          "metadata": {},
          "execution_count": 112
        }
      ],
      "source": [
        "# Find the maximum and 99th percentile of Winter season.\n",
        "inp0.Winter.quantile([0.99,1.0])"
      ]
    },
    {
      "cell_type": "code",
      "source": [
        "20388.00-8975.69"
      ],
      "metadata": {
        "colab": {
          "base_uri": "https://localhost:8080/"
        },
        "id": "nrQ3PQut5Kag",
        "outputId": "35fe30bb-088d-42e0-f7fa-2e7d15587282"
      },
      "execution_count": null,
      "outputs": [
        {
          "output_type": "execute_result",
          "data": {
            "text/plain": [
              "11412.31"
            ]
          },
          "metadata": {},
          "execution_count": 116
        }
      ]
    },
    {
      "cell_type": "code",
      "execution_count": null,
      "metadata": {
        "colab": {
          "base_uri": "https://localhost:8080/"
        },
        "id": "wDz6yY7ps_Ve",
        "outputId": "e6453c56-bf71-4ed1-a554-808c02056960"
      },
      "outputs": [
        {
          "output_type": "execute_result",
          "data": {
            "text/plain": [
              "0.99    13971.5\n",
              "1.00    35577.0\n",
              "Name: Summer, dtype: float64"
            ]
          },
          "metadata": {},
          "execution_count": 113
        }
      ],
      "source": [
        "# Find the maximum and 99th percentile of Summer season.\n",
        "inp0.Summer.quantile([0.99,1.0])"
      ]
    },
    {
      "cell_type": "code",
      "source": [
        "35577.0-13971.5"
      ],
      "metadata": {
        "colab": {
          "base_uri": "https://localhost:8080/"
        },
        "id": "TGVj6t5g5OJ2",
        "outputId": "ac273ddf-65a6-4f89-9813-2233ed1755ea"
      },
      "execution_count": null,
      "outputs": [
        {
          "output_type": "execute_result",
          "data": {
            "text/plain": [
              "21605.5"
            ]
          },
          "metadata": {},
          "execution_count": 117
        }
      ]
    },
    {
      "cell_type": "code",
      "execution_count": null,
      "metadata": {
        "colab": {
          "base_uri": "https://localhost:8080/"
        },
        "id": "GrupgQt6s_Ve",
        "outputId": "0b714762-f80b-4c97-840c-27b59f5cd780"
      },
      "outputs": [
        {
          "output_type": "execute_result",
          "data": {
            "text/plain": [
              "0.99    2657.16\n",
              "1.00    7374.00\n",
              "Name: Spring, dtype: float64"
            ]
          },
          "metadata": {},
          "execution_count": 114
        }
      ],
      "source": [
        "# Find the maximum and 99th percentile of Spring season.\n",
        "inp0.Spring.quantile([0.99,1.0])"
      ]
    },
    {
      "cell_type": "code",
      "source": [
        "7374.00-2657.16"
      ],
      "metadata": {
        "colab": {
          "base_uri": "https://localhost:8080/"
        },
        "id": "6jAL0WdZ5UCW",
        "outputId": "4b23e5db-cbf7-46e2-ba03-77bb788327dd"
      },
      "execution_count": null,
      "outputs": [
        {
          "output_type": "execute_result",
          "data": {
            "text/plain": [
              "4716.84"
            ]
          },
          "metadata": {},
          "execution_count": 118
        }
      ]
    },
    {
      "cell_type": "code",
      "execution_count": null,
      "metadata": {
        "colab": {
          "base_uri": "https://localhost:8080/"
        },
        "id": "oP0Bq-Sas_Ve",
        "outputId": "6072e421-fccf-49e7-89a7-3b91f5a0f189"
      },
      "outputs": [
        {
          "output_type": "execute_result",
          "data": {
            "text/plain": [
              "0.99    24134.0\n",
              "1.00    55532.0\n",
              "Name: Autumn, dtype: float64"
            ]
          },
          "metadata": {},
          "execution_count": 115
        }
      ],
      "source": [
        "# Find the maximum and 99th percentile of Autumn season.\n",
        "inp0.Autumn.quantile([0.99,1.0])"
      ]
    },
    {
      "cell_type": "code",
      "source": [
        "55532.0-24134.0"
      ],
      "metadata": {
        "colab": {
          "base_uri": "https://localhost:8080/"
        },
        "id": "brzuXDN05Xvx",
        "outputId": "ddc4b0ed-f2b2-4205-ce58-236e20928e9b"
      },
      "execution_count": null,
      "outputs": [
        {
          "output_type": "execute_result",
          "data": {
            "text/plain": [
              "31398.0"
            ]
          },
          "metadata": {},
          "execution_count": 119
        }
      ]
    },
    {
      "cell_type": "markdown",
      "metadata": {
        "id": "sGhBgtd3s_Ve"
      },
      "source": [
        "## Bivariate Analysis "
      ]
    },
    {
      "cell_type": "markdown",
      "metadata": {
        "id": "8WrLnIOhs_Ve"
      },
      "source": [
        "### Numerical- Categorical analysis"
      ]
    },
    {
      "cell_type": "markdown",
      "metadata": {
        "id": "6eetFptMs_Vf"
      },
      "source": [
        "Which of the following “Price” category has the lowest average value of rating?\n",
        "- very-high\n",
        "- Medium\n",
        "- Low\n",
        "- High\n"
      ]
    },
    {
      "cell_type": "code",
      "source": [
        "##High"
      ],
      "metadata": {
        "id": "R1dDmuWrAMR6"
      },
      "execution_count": null,
      "outputs": []
    },
    {
      "cell_type": "code",
      "source": [
        "inp0.head()"
      ],
      "metadata": {
        "colab": {
          "base_uri": "https://localhost:8080/",
          "height": 288
        },
        "id": "QhJvouJ86Evf",
        "outputId": "b0df63a3-f344-4461-93ce-d6433f6c5914"
      },
      "execution_count": null,
      "outputs": [
        {
          "output_type": "execute_result",
          "data": {
            "text/plain": [
              "     Dress_ID    Style    Price  Rating    Size  Season NeckLine  \\\n",
              "0  1006032852     Sexy      Low     4.6  Medium  Summer   o-neck   \n",
              "1  1212192089   Casual      Low     0.0   Large  Summer   o-neck   \n",
              "2  1190380701  vintage     High     0.0   Large  Autumn   o-neck   \n",
              "3   966005983    Brief  Average     4.6   Large  Spring   o-neck   \n",
              "4   876339541     cute      Low     4.5  Medium  Summer   o-neck   \n",
              "\n",
              "   SleeveLength       Material FabricType  Decoration Pattern Type  \\\n",
              "0   sleeve less        Missing    chiffon     ruffles       animal   \n",
              "1         Petal     microfiber    Missing     ruffles       animal   \n",
              "2  full sleeves       polyster    Missing     Missing        print   \n",
              "3  full sleeves           silk    chiffon  embroidary        print   \n",
              "4     butterfly  chiffonfabric    chiffon         bow          dot   \n",
              "\n",
              "   Recommendation  Spring   Summer  Winter   Autumn    Total  \n",
              "0               1  2660.0  13899.0  9658.0  26857.0  53074.0  \n",
              "1               0   750.0   6216.0  6405.0  17311.0  30682.0  \n",
              "2               0     7.0     40.0    28.0     82.0    157.0  \n",
              "3               1  1455.0   7213.0  5012.0  14411.0  28091.0  \n",
              "4               0  1396.0   7706.0  5678.0  14676.0  29456.0  "
            ],
            "text/html": [
              "\n",
              "  <div id=\"df-d518b862-68fe-4a68-a343-b1d9ac92225e\">\n",
              "    <div class=\"colab-df-container\">\n",
              "      <div>\n",
              "<style scoped>\n",
              "    .dataframe tbody tr th:only-of-type {\n",
              "        vertical-align: middle;\n",
              "    }\n",
              "\n",
              "    .dataframe tbody tr th {\n",
              "        vertical-align: top;\n",
              "    }\n",
              "\n",
              "    .dataframe thead th {\n",
              "        text-align: right;\n",
              "    }\n",
              "</style>\n",
              "<table border=\"1\" class=\"dataframe\">\n",
              "  <thead>\n",
              "    <tr style=\"text-align: right;\">\n",
              "      <th></th>\n",
              "      <th>Dress_ID</th>\n",
              "      <th>Style</th>\n",
              "      <th>Price</th>\n",
              "      <th>Rating</th>\n",
              "      <th>Size</th>\n",
              "      <th>Season</th>\n",
              "      <th>NeckLine</th>\n",
              "      <th>SleeveLength</th>\n",
              "      <th>Material</th>\n",
              "      <th>FabricType</th>\n",
              "      <th>Decoration</th>\n",
              "      <th>Pattern Type</th>\n",
              "      <th>Recommendation</th>\n",
              "      <th>Spring</th>\n",
              "      <th>Summer</th>\n",
              "      <th>Winter</th>\n",
              "      <th>Autumn</th>\n",
              "      <th>Total</th>\n",
              "    </tr>\n",
              "  </thead>\n",
              "  <tbody>\n",
              "    <tr>\n",
              "      <th>0</th>\n",
              "      <td>1006032852</td>\n",
              "      <td>Sexy</td>\n",
              "      <td>Low</td>\n",
              "      <td>4.6</td>\n",
              "      <td>Medium</td>\n",
              "      <td>Summer</td>\n",
              "      <td>o-neck</td>\n",
              "      <td>sleeve less</td>\n",
              "      <td>Missing</td>\n",
              "      <td>chiffon</td>\n",
              "      <td>ruffles</td>\n",
              "      <td>animal</td>\n",
              "      <td>1</td>\n",
              "      <td>2660.0</td>\n",
              "      <td>13899.0</td>\n",
              "      <td>9658.0</td>\n",
              "      <td>26857.0</td>\n",
              "      <td>53074.0</td>\n",
              "    </tr>\n",
              "    <tr>\n",
              "      <th>1</th>\n",
              "      <td>1212192089</td>\n",
              "      <td>Casual</td>\n",
              "      <td>Low</td>\n",
              "      <td>0.0</td>\n",
              "      <td>Large</td>\n",
              "      <td>Summer</td>\n",
              "      <td>o-neck</td>\n",
              "      <td>Petal</td>\n",
              "      <td>microfiber</td>\n",
              "      <td>Missing</td>\n",
              "      <td>ruffles</td>\n",
              "      <td>animal</td>\n",
              "      <td>0</td>\n",
              "      <td>750.0</td>\n",
              "      <td>6216.0</td>\n",
              "      <td>6405.0</td>\n",
              "      <td>17311.0</td>\n",
              "      <td>30682.0</td>\n",
              "    </tr>\n",
              "    <tr>\n",
              "      <th>2</th>\n",
              "      <td>1190380701</td>\n",
              "      <td>vintage</td>\n",
              "      <td>High</td>\n",
              "      <td>0.0</td>\n",
              "      <td>Large</td>\n",
              "      <td>Autumn</td>\n",
              "      <td>o-neck</td>\n",
              "      <td>full sleeves</td>\n",
              "      <td>polyster</td>\n",
              "      <td>Missing</td>\n",
              "      <td>Missing</td>\n",
              "      <td>print</td>\n",
              "      <td>0</td>\n",
              "      <td>7.0</td>\n",
              "      <td>40.0</td>\n",
              "      <td>28.0</td>\n",
              "      <td>82.0</td>\n",
              "      <td>157.0</td>\n",
              "    </tr>\n",
              "    <tr>\n",
              "      <th>3</th>\n",
              "      <td>966005983</td>\n",
              "      <td>Brief</td>\n",
              "      <td>Average</td>\n",
              "      <td>4.6</td>\n",
              "      <td>Large</td>\n",
              "      <td>Spring</td>\n",
              "      <td>o-neck</td>\n",
              "      <td>full sleeves</td>\n",
              "      <td>silk</td>\n",
              "      <td>chiffon</td>\n",
              "      <td>embroidary</td>\n",
              "      <td>print</td>\n",
              "      <td>1</td>\n",
              "      <td>1455.0</td>\n",
              "      <td>7213.0</td>\n",
              "      <td>5012.0</td>\n",
              "      <td>14411.0</td>\n",
              "      <td>28091.0</td>\n",
              "    </tr>\n",
              "    <tr>\n",
              "      <th>4</th>\n",
              "      <td>876339541</td>\n",
              "      <td>cute</td>\n",
              "      <td>Low</td>\n",
              "      <td>4.5</td>\n",
              "      <td>Medium</td>\n",
              "      <td>Summer</td>\n",
              "      <td>o-neck</td>\n",
              "      <td>butterfly</td>\n",
              "      <td>chiffonfabric</td>\n",
              "      <td>chiffon</td>\n",
              "      <td>bow</td>\n",
              "      <td>dot</td>\n",
              "      <td>0</td>\n",
              "      <td>1396.0</td>\n",
              "      <td>7706.0</td>\n",
              "      <td>5678.0</td>\n",
              "      <td>14676.0</td>\n",
              "      <td>29456.0</td>\n",
              "    </tr>\n",
              "  </tbody>\n",
              "</table>\n",
              "</div>\n",
              "      <button class=\"colab-df-convert\" onclick=\"convertToInteractive('df-d518b862-68fe-4a68-a343-b1d9ac92225e')\"\n",
              "              title=\"Convert this dataframe to an interactive table.\"\n",
              "              style=\"display:none;\">\n",
              "        \n",
              "  <svg xmlns=\"http://www.w3.org/2000/svg\" height=\"24px\"viewBox=\"0 0 24 24\"\n",
              "       width=\"24px\">\n",
              "    <path d=\"M0 0h24v24H0V0z\" fill=\"none\"/>\n",
              "    <path d=\"M18.56 5.44l.94 2.06.94-2.06 2.06-.94-2.06-.94-.94-2.06-.94 2.06-2.06.94zm-11 1L8.5 8.5l.94-2.06 2.06-.94-2.06-.94L8.5 2.5l-.94 2.06-2.06.94zm10 10l.94 2.06.94-2.06 2.06-.94-2.06-.94-.94-2.06-.94 2.06-2.06.94z\"/><path d=\"M17.41 7.96l-1.37-1.37c-.4-.4-.92-.59-1.43-.59-.52 0-1.04.2-1.43.59L10.3 9.45l-7.72 7.72c-.78.78-.78 2.05 0 2.83L4 21.41c.39.39.9.59 1.41.59.51 0 1.02-.2 1.41-.59l7.78-7.78 2.81-2.81c.8-.78.8-2.07 0-2.86zM5.41 20L4 18.59l7.72-7.72 1.47 1.35L5.41 20z\"/>\n",
              "  </svg>\n",
              "      </button>\n",
              "      \n",
              "  <style>\n",
              "    .colab-df-container {\n",
              "      display:flex;\n",
              "      flex-wrap:wrap;\n",
              "      gap: 12px;\n",
              "    }\n",
              "\n",
              "    .colab-df-convert {\n",
              "      background-color: #E8F0FE;\n",
              "      border: none;\n",
              "      border-radius: 50%;\n",
              "      cursor: pointer;\n",
              "      display: none;\n",
              "      fill: #1967D2;\n",
              "      height: 32px;\n",
              "      padding: 0 0 0 0;\n",
              "      width: 32px;\n",
              "    }\n",
              "\n",
              "    .colab-df-convert:hover {\n",
              "      background-color: #E2EBFA;\n",
              "      box-shadow: 0px 1px 2px rgba(60, 64, 67, 0.3), 0px 1px 3px 1px rgba(60, 64, 67, 0.15);\n",
              "      fill: #174EA6;\n",
              "    }\n",
              "\n",
              "    [theme=dark] .colab-df-convert {\n",
              "      background-color: #3B4455;\n",
              "      fill: #D2E3FC;\n",
              "    }\n",
              "\n",
              "    [theme=dark] .colab-df-convert:hover {\n",
              "      background-color: #434B5C;\n",
              "      box-shadow: 0px 1px 3px 1px rgba(0, 0, 0, 0.15);\n",
              "      filter: drop-shadow(0px 1px 2px rgba(0, 0, 0, 0.3));\n",
              "      fill: #FFFFFF;\n",
              "    }\n",
              "  </style>\n",
              "\n",
              "      <script>\n",
              "        const buttonEl =\n",
              "          document.querySelector('#df-d518b862-68fe-4a68-a343-b1d9ac92225e button.colab-df-convert');\n",
              "        buttonEl.style.display =\n",
              "          google.colab.kernel.accessAllowed ? 'block' : 'none';\n",
              "\n",
              "        async function convertToInteractive(key) {\n",
              "          const element = document.querySelector('#df-d518b862-68fe-4a68-a343-b1d9ac92225e');\n",
              "          const dataTable =\n",
              "            await google.colab.kernel.invokeFunction('convertToInteractive',\n",
              "                                                     [key], {});\n",
              "          if (!dataTable) return;\n",
              "\n",
              "          const docLinkHtml = 'Like what you see? Visit the ' +\n",
              "            '<a target=\"_blank\" href=https://colab.research.google.com/notebooks/data_table.ipynb>data table notebook</a>'\n",
              "            + ' to learn more about interactive tables.';\n",
              "          element.innerHTML = '';\n",
              "          dataTable['output_type'] = 'display_data';\n",
              "          await google.colab.output.renderOutput(dataTable, element);\n",
              "          const docLink = document.createElement('div');\n",
              "          docLink.innerHTML = docLinkHtml;\n",
              "          element.appendChild(docLink);\n",
              "        }\n",
              "      </script>\n",
              "    </div>\n",
              "  </div>\n",
              "  "
            ]
          },
          "metadata": {},
          "execution_count": 120
        }
      ]
    },
    {
      "cell_type": "code",
      "execution_count": null,
      "metadata": {
        "colab": {
          "base_uri": "https://localhost:8080/"
        },
        "id": "TnPCSptGs_Vf",
        "outputId": "bff0f002-6394-474a-cabd-9d0626b96210"
      },
      "outputs": [
        {
          "output_type": "execute_result",
          "data": {
            "text/plain": [
              "Price\n",
              "Average      3.455042\n",
              "High         2.914286\n",
              "Low          3.731481\n",
              "Medium       3.156667\n",
              "very-high    3.123810\n",
              "Name: Rating, dtype: float64"
            ]
          },
          "metadata": {},
          "execution_count": 121
        }
      ],
      "source": [
        "# Find the Mean of Ratings for each Price category.\n",
        "inp0.groupby('Price')['Rating'].mean()"
      ]
    },
    {
      "cell_type": "markdown",
      "metadata": {
        "id": "o8u3zbOfs_Vf"
      },
      "source": [
        "What is the median of the rating of “vintage” category in Style column?\n",
        "- 4.6\n",
        "- 4.7\n",
        "- 4.55\n",
        "- 0.00\n"
      ]
    },
    {
      "cell_type": "code",
      "source": [
        "##4.6"
      ],
      "metadata": {
        "id": "FowzYJ1jAG6S"
      },
      "execution_count": null,
      "outputs": []
    },
    {
      "cell_type": "code",
      "execution_count": null,
      "metadata": {
        "colab": {
          "base_uri": "https://localhost:8080/"
        },
        "id": "H1jj7ONys_Vf",
        "outputId": "bac7bfda-acfb-4eca-f6ee-c6177b7f5d38"
      },
      "outputs": [
        {
          "output_type": "execute_result",
          "data": {
            "text/plain": [
              "Style\n",
              "Brief       4.6\n",
              "Casual      4.6\n",
              "Sexy        4.6\n",
              "bohemian    4.6\n",
              "cute        4.6\n",
              "others      0.0\n",
              "party       4.7\n",
              "sexy        4.5\n",
              "vintage     4.6\n",
              "work        4.7\n",
              "Name: Rating, dtype: float64"
            ]
          },
          "metadata": {},
          "execution_count": 122
        }
      ],
      "source": [
        "# Find the median of Ratings for each Style category.\n",
        "inp0.groupby('Style')['Rating'].median()"
      ]
    },
    {
      "cell_type": "markdown",
      "metadata": {
        "id": "D7aSN0uws_Vg"
      },
      "source": [
        "Which of the following season has the highest average value of sale for “Recommendation” value equals to 1.\n",
        "- Summer\n",
        "- Spring\n",
        "- Autumn\n",
        "- Winter\n"
      ]
    },
    {
      "cell_type": "code",
      "source": [
        "##Autumn"
      ],
      "metadata": {
        "id": "BoP0wq3dACOx"
      },
      "execution_count": null,
      "outputs": []
    },
    {
      "cell_type": "code",
      "execution_count": null,
      "metadata": {
        "colab": {
          "base_uri": "https://localhost:8080/"
        },
        "id": "fKiE8bZms_Vg",
        "outputId": "1c561800-56eb-47db-b9c2-c2eb0f0aef07"
      },
      "outputs": [
        {
          "output_type": "execute_result",
          "data": {
            "text/plain": [
              "1486.295"
            ]
          },
          "metadata": {},
          "execution_count": 124
        }
      ],
      "source": [
        "# Summer sale vs Recommendation.\n",
        "inp0[inp0.Recommendation == 1].Summer.mean()"
      ]
    },
    {
      "cell_type": "code",
      "execution_count": null,
      "metadata": {
        "colab": {
          "base_uri": "https://localhost:8080/"
        },
        "id": "_Cq3rGQ8s_Vg",
        "outputId": "38947223-424a-4504-9550-5d4f84d3b6f1"
      },
      "outputs": [
        {
          "output_type": "execute_result",
          "data": {
            "text/plain": [
              "306.85"
            ]
          },
          "metadata": {},
          "execution_count": 125
        }
      ],
      "source": [
        "# Spring sale vs Recommendation.\n",
        "inp0[inp0.Recommendation==1].Spring.mean()"
      ]
    },
    {
      "cell_type": "code",
      "execution_count": null,
      "metadata": {
        "colab": {
          "base_uri": "https://localhost:8080/"
        },
        "id": "y20ep35Zs_Vg",
        "outputId": "2dadab1d-3c17-468e-f556-e95aff279627"
      },
      "outputs": [
        {
          "output_type": "execute_result",
          "data": {
            "text/plain": [
              "2868.0603015075376"
            ]
          },
          "metadata": {},
          "execution_count": 126
        }
      ],
      "source": [
        "# Autumn sale vs Recommendation.\n",
        "inp0[inp0.Recommendation==1].Autumn.mean()"
      ]
    },
    {
      "cell_type": "code",
      "execution_count": null,
      "metadata": {
        "colab": {
          "base_uri": "https://localhost:8080/"
        },
        "id": "mgSyE_J-s_Vg",
        "outputId": "53733493-6cc6-43ad-fe08-38dc8b1a9473"
      },
      "outputs": [
        {
          "output_type": "execute_result",
          "data": {
            "text/plain": [
              "1011.695"
            ]
          },
          "metadata": {},
          "execution_count": 128
        }
      ],
      "source": [
        "# Winter sale vs Recommendation.\n",
        "inp0[inp0.Recommendation==1].Winter.mean()"
      ]
    },
    {
      "cell_type": "markdown",
      "metadata": {
        "id": "koP547qas_Vh"
      },
      "source": [
        "### Categorical categorical bivariate analysis\n"
      ]
    },
    {
      "cell_type": "markdown",
      "metadata": {
        "id": "B-qHGFRNs_Vh"
      },
      "source": [
        "Which of the following size categories has the highest positive recommendations?\n",
        "- Medium and extra large\n",
        "- Extra large and small\n",
        "- Free and small\n",
        "- Free and medium\n"
      ]
    },
    {
      "cell_type": "code",
      "source": [
        "##Free and medium"
      ],
      "metadata": {
        "id": "Wzq_Qlnc_9ly"
      },
      "execution_count": null,
      "outputs": []
    },
    {
      "cell_type": "code",
      "execution_count": null,
      "metadata": {
        "colab": {
          "base_uri": "https://localhost:8080/"
        },
        "id": "JMmg8uP5s_Vh",
        "outputId": "b82a1035-4362-4ab0-e27c-208d1d76e550"
      },
      "outputs": [
        {
          "output_type": "execute_result",
          "data": {
            "text/plain": [
              "Size\n",
              "Extra large    28.571429\n",
              "Free           45.679012\n",
              "Large          36.666667\n",
              "Medium         44.705882\n",
              "Small          36.111111\n",
              "Name: Recommendation, dtype: float64"
            ]
          },
          "metadata": {},
          "execution_count": 131
        }
      ],
      "source": [
        "# Size vs Recommendation.\n",
        "inp0.groupby('Size')['Recommendation'].mean()*100"
      ]
    },
    {
      "cell_type": "markdown",
      "metadata": {
        "id": "A8p6emSNs_Vh"
      },
      "source": [
        "### Multivariate analysis "
      ]
    },
    {
      "cell_type": "markdown",
      "metadata": {
        "id": "RUdZOAdSs_Vh"
      },
      "source": [
        "Which of the following pair of “Style” and “Price” category has the highest average of positive recommendations?\n",
        "- Price: medium and style: vintage\n",
        "- Price: medium and style: cute\n",
        "- Price: very high and style: party\n",
        "- Price: low and style: sexy\n"
      ]
    },
    {
      "cell_type": "code",
      "source": [
        "##Price: medium and style: cute"
      ],
      "metadata": {
        "id": "BCSs7FYr_5Eh"
      },
      "execution_count": null,
      "outputs": []
    },
    {
      "cell_type": "code",
      "execution_count": null,
      "metadata": {
        "colab": {
          "base_uri": "https://localhost:8080/",
          "height": 283
        },
        "id": "Czv7B68hs_Vi",
        "outputId": "e7651fe5-6b4a-415e-c8e3-68239c654bb8"
      },
      "outputs": [
        {
          "output_type": "display_data",
          "data": {
            "text/plain": [
              "<Figure size 432x288 with 2 Axes>"
            ],
            "image/png": "[encoded data removed]"
          },
          "metadata": {
            "needs_background": "light"
          }
        }
      ],
      "source": [
        "# plot the heat map of Style, price and Recommendation.\n",
        "ax = pd.pivot_table(data=inp0, index='Style',columns= 'Price',values= 'Recommendation')\n",
        "sns.heatmap(ax,annot=True,cmap='RdYlGn',center=0.427)\n",
        "plt.show()"
      ]
    },
    {
      "cell_type": "markdown",
      "metadata": {
        "id": "8J7dHHxQs_Vi"
      },
      "source": [
        "Which of the following material type has no recommendation in summer and winter seasons?\n",
        "- Mix and Milksilk\n",
        "- Nylon and Rayon\n",
        "- Microfiber and Silk\n",
        "- Milksilk and Microfiber\n"
      ]
    },
    {
      "cell_type": "code",
      "source": [
        "##Milksilk and Microfiber"
      ],
      "metadata": {
        "id": "cNlDupn-_zOZ"
      },
      "execution_count": null,
      "outputs": []
    },
    {
      "cell_type": "code",
      "execution_count": null,
      "metadata": {
        "colab": {
          "base_uri": "https://localhost:8080/",
          "height": 283
        },
        "id": "pUUsWjtNs_Vi",
        "outputId": "0c5c5c3c-a8d5-49f4-c485-d587cec7b5eb"
      },
      "outputs": [
        {
          "output_type": "display_data",
          "data": {
            "text/plain": [
              "<Figure size 432x288 with 2 Axes>"
            ],
            "image/png": "[encoded data removed]"
          },
          "metadata": {
            "needs_background": "light"
          }
        }
      ],
      "source": [
        "# plot the heat map of Season, material and Recommendation.\n",
        "ax = pd.pivot_table(data=inp0, index='Material',columns= 'Season',values= 'Recommendation')\n",
        "sns.heatmap(ax,annot=True,cmap='RdYlGn',center=0.427)\n",
        "plt.show()"
      ]
    },
    {
      "cell_type": "code",
      "source": [],
      "metadata": {
        "id": "kZ6yn_IQ_EOS"
      },
      "execution_count": null,
      "outputs": []
    }
  ],
  "metadata": {
    "kernelspec": {
      "display_name": "Python 3",
      "language": "python",
      "name": "python3"
    },
    "language_info": {
      "codemirror_mode": {
        "name": "ipython",
        "version": 3
      },
      "file_extension": ".py",
      "mimetype": "text/x-python",
      "name": "python",
      "nbconvert_exporter": "python",
      "pygments_lexer": "ipython3",
      "version": "3.7.3"
    },
    "colab": {
      "provenance": [],
      "collapsed_sections": [
        "hap1bSzKs_VM",
        "OEuzQzXCs_VP",
        "_zxu_mLks_VR"
      ]
    }
  },
  "nbformat": 4,
  "nbformat_minor": 0
}